{
 "metadata": {
  "language_info": {
   "codemirror_mode": {
    "name": "ipython",
    "version": 3
   },
   "file_extension": ".py",
   "mimetype": "text/x-python",
   "name": "python",
   "nbconvert_exporter": "python",
   "pygments_lexer": "ipython3",
   "version": "3.7.6-final"
  },
  "orig_nbformat": 2,
  "kernelspec": {
   "name": "python3",
   "display_name": "Python 3"
  }
 },
 "nbformat": 4,
 "nbformat_minor": 2,
 "cells": [
  {
   "source": [
    "## Imports"
   ],
   "cell_type": "markdown",
   "metadata": {}
  },
  {
   "cell_type": "code",
   "execution_count": 1,
   "metadata": {},
   "outputs": [],
   "source": [
    "import pandas as pd\n",
    "import numpy as np\n",
    "from time import time\n",
    "from pprint import pprint\n",
    "#plotting, !pip install plotly\n",
    "import plotly.offline as pyo\n",
    "import plotly.graph_objs as go\n",
    "from sklearn.pipeline import Pipeline\n",
    "from sklearn.tree import DecisionTreeClassifier\n",
    "from sklearn.ensemble import RandomForestClassifier\n",
    "from sklearn.feature_extraction.text import TfidfVectorizer\n",
    "from sklearn.model_selection import train_test_split, GridSearchCV\n",
    "from sklearn.metrics import accuracy_score, confusion_matrix, classification_report, f1_score, recall_score,precision_score, roc_auc_score, roc_curve, auc"
   ]
  },
  {
   "source": [
    "## Functions"
   ],
   "cell_type": "markdown",
   "metadata": {}
  },
  {
   "cell_type": "code",
   "execution_count": 17,
   "metadata": {},
   "outputs": [],
   "source": [
    "def make_grid_search(pipeline, parameters):\n",
    "    \n",
    "    # find the best parameters for both the feature extraction and the classifier\n",
    "    grid_search = GridSearchCV(pipeline, parameters, cv=3, scoring = \"roc_auc\", n_jobs=-1)\n",
    "\n",
    "    print(\"Performing grid search...\")\n",
    "    print(\"pipeline:\", [name for name, _ in pipeline.steps])\n",
    "    print(\"parameters:\")\n",
    "    pprint(parameters)\n",
    "    t0 = time()\n",
    "    grid_search.fit(X_train, y_train)\n",
    "    y_pred = grid_search.predict(X_test)\n",
    "    accuracy = accuracy_score(y_test,y_pred)\n",
    "    recall = recall_score(y_test,y_pred, average = \"micro\")\n",
    "    precision = precision_score(y_test, y_pred, average = \"micro\")\n",
    "    f1_macro = f1_score(y_test, y_pred,average=\"macro\")\n",
    "    rocauc = roc_auc_score(y_test, y_pred, average=\"micro\")\n",
    "    print(\"Accuracy: \" + str(accuracy) +\n",
    "      \"\\nRecall \" + str(recall) +\n",
    "      \"\\nPrecision \" + str(precision) +\n",
    "      \"\\nF1-score \" + str(f1_macro) +\n",
    "      \"\\nROC_AUC \" + str(rocauc))\n",
    "\n",
    "    print(\"done in %0.3fs\" % (time() - t0))\n",
    "    print()\n",
    "\n",
    "    print(\"Best score: %0.3f\" % grid_search.best_score_)\n",
    "    print(\"Best parameters set:\")\n",
    "    best_parameters = grid_search.best_estimator_.get_params()\n",
    "    for param_name in sorted(parameters.keys()):\n",
    "        print(\"\\t%s: %r\" % (param_name, best_parameters[param_name]))\n",
    "\n",
    "    \n",
    "    print(classification_report(y_test,y_pred,zero_division=False))\n",
    "\n",
    "    return grid_search"
   ]
  },
  {
   "source": [
    "## Loading the data"
   ],
   "cell_type": "markdown",
   "metadata": {}
  },
  {
   "cell_type": "code",
   "execution_count": 3,
   "metadata": {},
   "outputs": [],
   "source": [
    "#replace this with colab path\n",
    "df = pd.read_csv('/Users/niklastodenhoefer/Downloads/hair.csv')"
   ]
  },
  {
   "cell_type": "code",
   "execution_count": 4,
   "metadata": {},
   "outputs": [
    {
     "output_type": "execute_result",
     "data": {
      "text/plain": [
       "       Unnamed: 0                       text_generation_preprocessed  \\\n",
       "76515      516897  personally, cant really tell difference from r...   \n",
       "76516      516898  my scalp was itching insanely before started u...   \n",
       "76517      516901  my doctor prescribed this and the shampoo and ...   \n",
       "76518      516915  best soap have ever purchased, hands down. my ...   \n",
       "76519      516945  bought this in december and loved how my hair ...   \n",
       "76520      516960  color changes with lighting, cnd shellac are t...   \n",
       "76521      516965  my wife bought it and loves it. she says paint...   \n",
       "\n",
       "                         text_preprocessed_for_sentiment  \\\n",
       "76515  ['person', 'tell', 'differ', 'regular', 'drugs...   \n",
       "76516  ['scalp', 'itch', 'insan', 'start', 'shampoo',...   \n",
       "76517  ['doctor', 'prescrib', 'shampoo', 'sprai', 'he...   \n",
       "76518  ['best', 'soap', 'purchas', 'hand', 'wife', 'a...   \n",
       "76519  ['bought', 'decemb', 'love', 'hair', 'look', '...   \n",
       "76520  ['color', 'chang', 'light', 'cnd', 'shellac', ...   \n",
       "76521  ['wife', 'bought', 'love', 'sai', 'paint', 'fa...   \n",
       "\n",
       "      target_sentiment_binary  cluster  \n",
       "76515                positive        2  \n",
       "76516                positive        2  \n",
       "76517                negative        2  \n",
       "76518                positive        2  \n",
       "76519                negative        2  \n",
       "76520                positive        2  \n",
       "76521                positive        2  "
      ],
      "text/html": "<div>\n<style scoped>\n    .dataframe tbody tr th:only-of-type {\n        vertical-align: middle;\n    }\n\n    .dataframe tbody tr th {\n        vertical-align: top;\n    }\n\n    .dataframe thead th {\n        text-align: right;\n    }\n</style>\n<table border=\"1\" class=\"dataframe\">\n  <thead>\n    <tr style=\"text-align: right;\">\n      <th></th>\n      <th>Unnamed: 0</th>\n      <th>text_generation_preprocessed</th>\n      <th>text_preprocessed_for_sentiment</th>\n      <th>target_sentiment_binary</th>\n      <th>cluster</th>\n    </tr>\n  </thead>\n  <tbody>\n    <tr>\n      <th>76515</th>\n      <td>516897</td>\n      <td>personally, cant really tell difference from r...</td>\n      <td>['person', 'tell', 'differ', 'regular', 'drugs...</td>\n      <td>positive</td>\n      <td>2</td>\n    </tr>\n    <tr>\n      <th>76516</th>\n      <td>516898</td>\n      <td>my scalp was itching insanely before started u...</td>\n      <td>['scalp', 'itch', 'insan', 'start', 'shampoo',...</td>\n      <td>positive</td>\n      <td>2</td>\n    </tr>\n    <tr>\n      <th>76517</th>\n      <td>516901</td>\n      <td>my doctor prescribed this and the shampoo and ...</td>\n      <td>['doctor', 'prescrib', 'shampoo', 'sprai', 'he...</td>\n      <td>negative</td>\n      <td>2</td>\n    </tr>\n    <tr>\n      <th>76518</th>\n      <td>516915</td>\n      <td>best soap have ever purchased, hands down. my ...</td>\n      <td>['best', 'soap', 'purchas', 'hand', 'wife', 'a...</td>\n      <td>positive</td>\n      <td>2</td>\n    </tr>\n    <tr>\n      <th>76519</th>\n      <td>516945</td>\n      <td>bought this in december and loved how my hair ...</td>\n      <td>['bought', 'decemb', 'love', 'hair', 'look', '...</td>\n      <td>negative</td>\n      <td>2</td>\n    </tr>\n    <tr>\n      <th>76520</th>\n      <td>516960</td>\n      <td>color changes with lighting, cnd shellac are t...</td>\n      <td>['color', 'chang', 'light', 'cnd', 'shellac', ...</td>\n      <td>positive</td>\n      <td>2</td>\n    </tr>\n    <tr>\n      <th>76521</th>\n      <td>516965</td>\n      <td>my wife bought it and loves it. she says paint...</td>\n      <td>['wife', 'bought', 'love', 'sai', 'paint', 'fa...</td>\n      <td>positive</td>\n      <td>2</td>\n    </tr>\n  </tbody>\n</table>\n</div>"
     },
     "metadata": {},
     "execution_count": 4
    }
   ],
   "source": [
    "df.tail(7)"
   ]
  },
  {
   "cell_type": "code",
   "execution_count": 5,
   "metadata": {},
   "outputs": [],
   "source": [
    "df['binary_integers'] = np.where(df['target_sentiment_binary']=='positive', 1, 0)"
   ]
  },
  {
   "cell_type": "code",
   "execution_count": 6,
   "metadata": {},
   "outputs": [],
   "source": [
    "df = df.drop_duplicates(subset=['text_preprocessed_for_sentiment'])"
   ]
  },
  {
   "cell_type": "code",
   "execution_count": 16,
   "metadata": {},
   "outputs": [],
   "source": [
    "X_train, X_test, y_train, y_test = train_test_split(df['text_preprocessed_for_sentiment'], \n",
    "                                                    df['binary_integers'], \n",
    "                                                    test_size=0.3, random_state=42, stratify=df['binary_integers'])"
   ]
  },
  {
   "cell_type": "code",
   "execution_count": 10,
   "metadata": {},
   "outputs": [],
   "source": [
    "pipeline_dt = Pipeline([\n",
    "    ('vect', TfidfVectorizer()),\n",
    "    ('dt_classifier', DecisionTreeClassifier(random_state=42)),\n",
    "])"
   ]
  },
  {
   "cell_type": "code",
   "execution_count": 11,
   "metadata": {},
   "outputs": [],
   "source": [
    "parameters_dt = {   'dt_classifier__max_depth':[5,10,15,20,25],\n",
    "                    'dt_classifier__min_samples_split':[2,4,6,8],\n",
    "                    'dt_classifier__max_features':[2,4,6,8]\n",
    "                }"
   ]
  },
  {
   "cell_type": "code",
   "execution_count": 12,
   "metadata": {},
   "outputs": [],
   "source": [
    "new_parameters_dt = {   'dt_classifier__max_depth':[5,10,15,20,25]\n",
    "                }"
   ]
  },
  {
   "source": [
    "## Results Decision Tree"
   ],
   "cell_type": "markdown",
   "metadata": {}
  },
  {
   "cell_type": "code",
   "execution_count": 18,
   "metadata": {},
   "outputs": [
    {
     "output_type": "stream",
     "name": "stdout",
     "text": [
      "Performing grid search...\n",
      "pipeline: ['vect', 'dt_classifier']\n",
      "parameters:\n",
      "{'dt_classifier__max_depth': [5, 10, 15, 20, 25],\n",
      " 'dt_classifier__max_features': [2, 4, 6, 8],\n",
      " 'dt_classifier__min_samples_split': [2, 4, 6, 8]}\n",
      "Accuracy: 0.8174143516246196\n",
      "Recall 0.8174143516246196\n",
      "Precision 0.8174143516246196\n",
      "F1-score 0.4797430650969849\n",
      "ROC_AUC 0.5140134987593559\n",
      "done in 57.790s\n",
      "\n",
      "Best score: 0.532\n",
      "Best parameters set:\n",
      "\tdt_classifier__max_depth: 25\n",
      "\tdt_classifier__max_features: 8\n",
      "\tdt_classifier__min_samples_split: 6\n",
      "              precision    recall  f1-score   support\n",
      "\n",
      "           0       0.66      0.03      0.06      3778\n",
      "           1       0.82      1.00      0.90     16596\n",
      "\n",
      "    accuracy                           0.82     20374\n",
      "   macro avg       0.74      0.51      0.48     20374\n",
      "weighted avg       0.79      0.82      0.74     20374\n",
      "\n"
     ]
    }
   ],
   "source": [
    "dt_grid = make_grid_search(pipeline_dt,parameters_dt)"
   ]
  },
  {
   "cell_type": "code",
   "execution_count": 19,
   "metadata": {},
   "outputs": [
    {
     "output_type": "stream",
     "name": "stdout",
     "text": [
      "Performing grid search...\n",
      "pipeline: ['vect', 'dt_classifier']\n",
      "parameters:\n",
      "{'dt_classifier__max_depth': [5, 10, 15, 20, 25]}\n",
      "Accuracy: 0.8425444193580053\n",
      "Recall 0.8425444193580053\n",
      "Precision 0.8425444193580053\n",
      "F1-score 0.6299925128724067\n",
      "ROC_AUC 0.6052842240618486\n",
      "done in 10.995s\n",
      "\n",
      "Best score: 0.755\n",
      "Best parameters set:\n",
      "\tdt_classifier__max_depth: 10\n",
      "              precision    recall  f1-score   support\n",
      "\n",
      "           0       0.75      0.23      0.35      3778\n",
      "           1       0.85      0.98      0.91     16596\n",
      "\n",
      "    accuracy                           0.84     20374\n",
      "   macro avg       0.80      0.61      0.63     20374\n",
      "weighted avg       0.83      0.84      0.81     20374\n",
      "\n"
     ]
    }
   ],
   "source": [
    "new_dt_grid = make_grid_search(pipeline_dt,new_parameters_dt)"
   ]
  },
  {
   "cell_type": "code",
   "execution_count": 29,
   "metadata": {},
   "outputs": [],
   "source": [
    "generated = ['iair ir shanpoo and conditioner and ias bleak hair and the shene is worth it. the smell is goedt an']"
   ]
  },
  {
   "cell_type": "code",
   "execution_count": 30,
   "metadata": {},
   "outputs": [],
   "source": [
    "tfidf = TfidfVectorizer()"
   ]
  },
  {
   "cell_type": "code",
   "execution_count": 31,
   "metadata": {},
   "outputs": [],
   "source": [
    "input = tfidf.fit_transform(generated)"
   ]
  },
  {
   "cell_type": "code",
   "execution_count": 32,
   "metadata": {},
   "outputs": [
    {
     "output_type": "execute_result",
     "data": {
      "text/plain": [
       "array([1])"
      ]
     },
     "metadata": {},
     "execution_count": 32
    }
   ],
   "source": [
    "new_dt_grid.predict(generated)"
   ]
  },
  {
   "source": [
    "predicted positive sentiment!"
   ],
   "cell_type": "markdown",
   "metadata": {}
  },
  {
   "cell_type": "code",
   "execution_count": 34,
   "metadata": {},
   "outputs": [],
   "source": [
    "pred_seed = ['oo is goeat aod soet and seeled to be without it. toe lanz sooe some boowle oo my hair. the smell is']"
   ]
  },
  {
   "cell_type": "code",
   "execution_count": 35,
   "metadata": {},
   "outputs": [],
   "source": [
    "input2 = tfidf.fit_transform(pred_seed)"
   ]
  },
  {
   "cell_type": "code",
   "execution_count": 36,
   "metadata": {},
   "outputs": [
    {
     "output_type": "execute_result",
     "data": {
      "text/plain": [
       "array([1])"
      ]
     },
     "metadata": {},
     "execution_count": 36
    }
   ],
   "source": [
    "new_dt_grid.predict(pred_seed)"
   ]
  },
  {
   "cell_type": "code",
   "execution_count": 54,
   "metadata": {},
   "outputs": [
    {
     "output_type": "stream",
     "name": "stdout",
     "text": [
      "done for max_depth=1.0. current progress: 3.125 %\n",
      "done for max_depth=2.0. current progress: 6.25 %\n",
      "done for max_depth=3.0. current progress: 9.375 %\n",
      "done for max_depth=4.0. current progress: 12.5 %\n",
      "done for max_depth=5.0. current progress: 15.625 %\n",
      "done for max_depth=6.0. current progress: 18.75 %\n",
      "done for max_depth=7.0. current progress: 21.875 %\n",
      "done for max_depth=8.0. current progress: 25.0 %\n",
      "done for max_depth=9.0. current progress: 28.125 %\n",
      "done for max_depth=10.0. current progress: 31.25 %\n",
      "done for max_depth=11.0. current progress: 34.375 %\n",
      "done for max_depth=12.0. current progress: 37.5 %\n",
      "done for max_depth=13.0. current progress: 40.625 %\n",
      "done for max_depth=14.0. current progress: 43.75 %\n",
      "done for max_depth=15.0. current progress: 46.875 %\n",
      "done for max_depth=16.0. current progress: 50.0 %\n",
      "done for max_depth=17.0. current progress: 53.125 %\n",
      "done for max_depth=18.0. current progress: 56.25 %\n",
      "done for max_depth=19.0. current progress: 59.375 %\n",
      "done for max_depth=20.0. current progress: 62.5 %\n",
      "done for max_depth=21.0. current progress: 65.625 %\n",
      "done for max_depth=22.0. current progress: 68.75 %\n",
      "done for max_depth=23.0. current progress: 71.875 %\n",
      "done for max_depth=24.0. current progress: 75.0 %\n",
      "done for max_depth=25.0. current progress: 78.125 %\n",
      "done for max_depth=26.0. current progress: 81.25 %\n",
      "done for max_depth=27.0. current progress: 84.375 %\n",
      "done for max_depth=28.0. current progress: 87.5 %\n",
      "done for max_depth=29.0. current progress: 90.625 %\n",
      "done for max_depth=30.0. current progress: 93.75 %\n",
      "done for max_depth=31.0. current progress: 96.875 %\n",
      "done for max_depth=32.0. current progress: 100.0 %\n"
     ]
    }
   ],
   "source": [
    "max_depths = np.linspace(1, 32, 32, endpoint=True)\n",
    "train_results = []\n",
    "test_results = []\n",
    "for max_depth in max_depths:\n",
    "\n",
    "    pipeline_dt = Pipeline([\n",
    "    ('vect', TfidfVectorizer()),\n",
    "    ('clf', DecisionTreeClassifier(max_depth= max_depth,random_state=42)),\n",
    "    ])\n",
    "    \n",
    "    \n",
    "    pipeline_dt.fit(X_train, y_train)\n",
    "    train_pred = pipeline_dt.predict(X_train)\n",
    "\n",
    "    false_positive_rate, true_positive_rate, thresholds = roc_curve(y_train, train_pred)\n",
    "    roc_auc = auc(false_positive_rate, true_positive_rate)\n",
    "    # Add auc score to previous train results\n",
    "    train_results.append(roc_auc)\n",
    "    y_pred = pipeline_dt.predict(X_test)\n",
    "    false_positive_rate, true_positive_rate, thresholds = roc_curve(y_test, y_pred)\n",
    "    roc_auc = auc(false_positive_rate, true_positive_rate)\n",
    "    # Add auc score to previous test results\n",
    "    test_results.append(roc_auc)\n",
    "    print('done for max_depth={}. current progress: {} %'.format(max_depth, (max_depth/len(max_depths)*100)))\n"
   ]
  },
  {
   "cell_type": "code",
   "execution_count": 58,
   "metadata": {},
   "outputs": [
    {
     "output_type": "display_data",
     "data": {
      "application/vnd.plotly.v1+json": {
       "config": {
        "plotlyServerURL": "https://plot.ly"
       },
       "data": [
        {
         "mode": "lines+markers",
         "name": "Training AUC",
         "type": "scatter",
         "x": [
          1,
          2,
          3,
          4,
          5,
          6,
          7,
          8,
          9,
          10,
          11,
          12,
          13,
          14,
          15,
          16,
          17,
          18,
          19,
          20,
          21,
          22,
          23,
          24,
          25,
          26,
          27,
          28,
          29,
          30,
          31,
          32
         ],
         "y": [
          0.5307457791468618,
          0.5623261869598094,
          0.562383845954245,
          0.5929450993267805,
          0.5941855997357196,
          0.5959043334714287,
          0.5984199381820345,
          0.6091329286647116,
          0.6207216292244531,
          0.6305321470207386,
          0.6382135417748511,
          0.6524501264053556,
          0.6645982006561717,
          0.6706240606902738,
          0.6777276291758789,
          0.6781136420958178,
          0.682595109142667,
          0.6850479835860683,
          0.6878204331745847,
          0.6893657636588257,
          0.6922641000499129,
          0.6982738087687199,
          0.7054400650411973,
          0.7086533740531245,
          0.7232150738500068,
          0.7307456517058651,
          0.7347770542807534,
          0.7428859271536129,
          0.7528993383409931,
          0.7571211904993003,
          0.7614232880052563,
          0.7685674266730139
         ]
        },
        {
         "mode": "lines+markers",
         "name": "Test AUC",
         "type": "scatter",
         "x": [
          1,
          2,
          3,
          4,
          5,
          6,
          7,
          8,
          9,
          10,
          11,
          12,
          13,
          14,
          15,
          16,
          17,
          18,
          19,
          20,
          21,
          22,
          23,
          24,
          25,
          26,
          27,
          28,
          29,
          30,
          31,
          32
         ],
         "y": [
          0.5299433387930096,
          0.5648350754153673,
          0.5649200838128572,
          0.5922961052054996,
          0.5925909232594586,
          0.5919851626693899,
          0.59033139048475,
          0.5961782457354493,
          0.6008565784250793,
          0.6052842240618486,
          0.6085917684311284,
          0.6176955776877231,
          0.6250918186387148,
          0.6292009778421863,
          0.6317811661199972,
          0.6284972901300562,
          0.6292128120318556,
          0.6289126191505132,
          0.6288749475117006,
          0.6287802739943459,
          0.6280335398160195,
          0.630367331333451,
          0.6333305518202897,
          0.6315670183239189,
          0.6371921818813516,
          0.6434166945136952,
          0.6420276126413899,
          0.6447218525234129,
          0.6461216840504852,
          0.647256825265223,
          0.6461614769119743,
          0.6498305541807481
         ]
        }
       ],
       "layout": {
        "template": {
         "data": {
          "bar": [
           {
            "error_x": {
             "color": "#2a3f5f"
            },
            "error_y": {
             "color": "#2a3f5f"
            },
            "marker": {
             "line": {
              "color": "#E5ECF6",
              "width": 0.5
             }
            },
            "type": "bar"
           }
          ],
          "barpolar": [
           {
            "marker": {
             "line": {
              "color": "#E5ECF6",
              "width": 0.5
             }
            },
            "type": "barpolar"
           }
          ],
          "carpet": [
           {
            "aaxis": {
             "endlinecolor": "#2a3f5f",
             "gridcolor": "white",
             "linecolor": "white",
             "minorgridcolor": "white",
             "startlinecolor": "#2a3f5f"
            },
            "baxis": {
             "endlinecolor": "#2a3f5f",
             "gridcolor": "white",
             "linecolor": "white",
             "minorgridcolor": "white",
             "startlinecolor": "#2a3f5f"
            },
            "type": "carpet"
           }
          ],
          "choropleth": [
           {
            "colorbar": {
             "outlinewidth": 0,
             "ticks": ""
            },
            "type": "choropleth"
           }
          ],
          "contour": [
           {
            "colorbar": {
             "outlinewidth": 0,
             "ticks": ""
            },
            "colorscale": [
             [
              0,
              "#0d0887"
             ],
             [
              0.1111111111111111,
              "#46039f"
             ],
             [
              0.2222222222222222,
              "#7201a8"
             ],
             [
              0.3333333333333333,
              "#9c179e"
             ],
             [
              0.4444444444444444,
              "#bd3786"
             ],
             [
              0.5555555555555556,
              "#d8576b"
             ],
             [
              0.6666666666666666,
              "#ed7953"
             ],
             [
              0.7777777777777778,
              "#fb9f3a"
             ],
             [
              0.8888888888888888,
              "#fdca26"
             ],
             [
              1,
              "#f0f921"
             ]
            ],
            "type": "contour"
           }
          ],
          "contourcarpet": [
           {
            "colorbar": {
             "outlinewidth": 0,
             "ticks": ""
            },
            "type": "contourcarpet"
           }
          ],
          "heatmap": [
           {
            "colorbar": {
             "outlinewidth": 0,
             "ticks": ""
            },
            "colorscale": [
             [
              0,
              "#0d0887"
             ],
             [
              0.1111111111111111,
              "#46039f"
             ],
             [
              0.2222222222222222,
              "#7201a8"
             ],
             [
              0.3333333333333333,
              "#9c179e"
             ],
             [
              0.4444444444444444,
              "#bd3786"
             ],
             [
              0.5555555555555556,
              "#d8576b"
             ],
             [
              0.6666666666666666,
              "#ed7953"
             ],
             [
              0.7777777777777778,
              "#fb9f3a"
             ],
             [
              0.8888888888888888,
              "#fdca26"
             ],
             [
              1,
              "#f0f921"
             ]
            ],
            "type": "heatmap"
           }
          ],
          "heatmapgl": [
           {
            "colorbar": {
             "outlinewidth": 0,
             "ticks": ""
            },
            "colorscale": [
             [
              0,
              "#0d0887"
             ],
             [
              0.1111111111111111,
              "#46039f"
             ],
             [
              0.2222222222222222,
              "#7201a8"
             ],
             [
              0.3333333333333333,
              "#9c179e"
             ],
             [
              0.4444444444444444,
              "#bd3786"
             ],
             [
              0.5555555555555556,
              "#d8576b"
             ],
             [
              0.6666666666666666,
              "#ed7953"
             ],
             [
              0.7777777777777778,
              "#fb9f3a"
             ],
             [
              0.8888888888888888,
              "#fdca26"
             ],
             [
              1,
              "#f0f921"
             ]
            ],
            "type": "heatmapgl"
           }
          ],
          "histogram": [
           {
            "marker": {
             "colorbar": {
              "outlinewidth": 0,
              "ticks": ""
             }
            },
            "type": "histogram"
           }
          ],
          "histogram2d": [
           {
            "colorbar": {
             "outlinewidth": 0,
             "ticks": ""
            },
            "colorscale": [
             [
              0,
              "#0d0887"
             ],
             [
              0.1111111111111111,
              "#46039f"
             ],
             [
              0.2222222222222222,
              "#7201a8"
             ],
             [
              0.3333333333333333,
              "#9c179e"
             ],
             [
              0.4444444444444444,
              "#bd3786"
             ],
             [
              0.5555555555555556,
              "#d8576b"
             ],
             [
              0.6666666666666666,
              "#ed7953"
             ],
             [
              0.7777777777777778,
              "#fb9f3a"
             ],
             [
              0.8888888888888888,
              "#fdca26"
             ],
             [
              1,
              "#f0f921"
             ]
            ],
            "type": "histogram2d"
           }
          ],
          "histogram2dcontour": [
           {
            "colorbar": {
             "outlinewidth": 0,
             "ticks": ""
            },
            "colorscale": [
             [
              0,
              "#0d0887"
             ],
             [
              0.1111111111111111,
              "#46039f"
             ],
             [
              0.2222222222222222,
              "#7201a8"
             ],
             [
              0.3333333333333333,
              "#9c179e"
             ],
             [
              0.4444444444444444,
              "#bd3786"
             ],
             [
              0.5555555555555556,
              "#d8576b"
             ],
             [
              0.6666666666666666,
              "#ed7953"
             ],
             [
              0.7777777777777778,
              "#fb9f3a"
             ],
             [
              0.8888888888888888,
              "#fdca26"
             ],
             [
              1,
              "#f0f921"
             ]
            ],
            "type": "histogram2dcontour"
           }
          ],
          "mesh3d": [
           {
            "colorbar": {
             "outlinewidth": 0,
             "ticks": ""
            },
            "type": "mesh3d"
           }
          ],
          "parcoords": [
           {
            "line": {
             "colorbar": {
              "outlinewidth": 0,
              "ticks": ""
             }
            },
            "type": "parcoords"
           }
          ],
          "pie": [
           {
            "automargin": true,
            "type": "pie"
           }
          ],
          "scatter": [
           {
            "marker": {
             "colorbar": {
              "outlinewidth": 0,
              "ticks": ""
             }
            },
            "type": "scatter"
           }
          ],
          "scatter3d": [
           {
            "line": {
             "colorbar": {
              "outlinewidth": 0,
              "ticks": ""
             }
            },
            "marker": {
             "colorbar": {
              "outlinewidth": 0,
              "ticks": ""
             }
            },
            "type": "scatter3d"
           }
          ],
          "scattercarpet": [
           {
            "marker": {
             "colorbar": {
              "outlinewidth": 0,
              "ticks": ""
             }
            },
            "type": "scattercarpet"
           }
          ],
          "scattergeo": [
           {
            "marker": {
             "colorbar": {
              "outlinewidth": 0,
              "ticks": ""
             }
            },
            "type": "scattergeo"
           }
          ],
          "scattergl": [
           {
            "marker": {
             "colorbar": {
              "outlinewidth": 0,
              "ticks": ""
             }
            },
            "type": "scattergl"
           }
          ],
          "scattermapbox": [
           {
            "marker": {
             "colorbar": {
              "outlinewidth": 0,
              "ticks": ""
             }
            },
            "type": "scattermapbox"
           }
          ],
          "scatterpolar": [
           {
            "marker": {
             "colorbar": {
              "outlinewidth": 0,
              "ticks": ""
             }
            },
            "type": "scatterpolar"
           }
          ],
          "scatterpolargl": [
           {
            "marker": {
             "colorbar": {
              "outlinewidth": 0,
              "ticks": ""
             }
            },
            "type": "scatterpolargl"
           }
          ],
          "scatterternary": [
           {
            "marker": {
             "colorbar": {
              "outlinewidth": 0,
              "ticks": ""
             }
            },
            "type": "scatterternary"
           }
          ],
          "surface": [
           {
            "colorbar": {
             "outlinewidth": 0,
             "ticks": ""
            },
            "colorscale": [
             [
              0,
              "#0d0887"
             ],
             [
              0.1111111111111111,
              "#46039f"
             ],
             [
              0.2222222222222222,
              "#7201a8"
             ],
             [
              0.3333333333333333,
              "#9c179e"
             ],
             [
              0.4444444444444444,
              "#bd3786"
             ],
             [
              0.5555555555555556,
              "#d8576b"
             ],
             [
              0.6666666666666666,
              "#ed7953"
             ],
             [
              0.7777777777777778,
              "#fb9f3a"
             ],
             [
              0.8888888888888888,
              "#fdca26"
             ],
             [
              1,
              "#f0f921"
             ]
            ],
            "type": "surface"
           }
          ],
          "table": [
           {
            "cells": {
             "fill": {
              "color": "#EBF0F8"
             },
             "line": {
              "color": "white"
             }
            },
            "header": {
             "fill": {
              "color": "#C8D4E3"
             },
             "line": {
              "color": "white"
             }
            },
            "type": "table"
           }
          ]
         },
         "layout": {
          "annotationdefaults": {
           "arrowcolor": "#2a3f5f",
           "arrowhead": 0,
           "arrowwidth": 1
          },
          "coloraxis": {
           "colorbar": {
            "outlinewidth": 0,
            "ticks": ""
           }
          },
          "colorscale": {
           "diverging": [
            [
             0,
             "#8e0152"
            ],
            [
             0.1,
             "#c51b7d"
            ],
            [
             0.2,
             "#de77ae"
            ],
            [
             0.3,
             "#f1b6da"
            ],
            [
             0.4,
             "#fde0ef"
            ],
            [
             0.5,
             "#f7f7f7"
            ],
            [
             0.6,
             "#e6f5d0"
            ],
            [
             0.7,
             "#b8e186"
            ],
            [
             0.8,
             "#7fbc41"
            ],
            [
             0.9,
             "#4d9221"
            ],
            [
             1,
             "#276419"
            ]
           ],
           "sequential": [
            [
             0,
             "#0d0887"
            ],
            [
             0.1111111111111111,
             "#46039f"
            ],
            [
             0.2222222222222222,
             "#7201a8"
            ],
            [
             0.3333333333333333,
             "#9c179e"
            ],
            [
             0.4444444444444444,
             "#bd3786"
            ],
            [
             0.5555555555555556,
             "#d8576b"
            ],
            [
             0.6666666666666666,
             "#ed7953"
            ],
            [
             0.7777777777777778,
             "#fb9f3a"
            ],
            [
             0.8888888888888888,
             "#fdca26"
            ],
            [
             1,
             "#f0f921"
            ]
           ],
           "sequentialminus": [
            [
             0,
             "#0d0887"
            ],
            [
             0.1111111111111111,
             "#46039f"
            ],
            [
             0.2222222222222222,
             "#7201a8"
            ],
            [
             0.3333333333333333,
             "#9c179e"
            ],
            [
             0.4444444444444444,
             "#bd3786"
            ],
            [
             0.5555555555555556,
             "#d8576b"
            ],
            [
             0.6666666666666666,
             "#ed7953"
            ],
            [
             0.7777777777777778,
             "#fb9f3a"
            ],
            [
             0.8888888888888888,
             "#fdca26"
            ],
            [
             1,
             "#f0f921"
            ]
           ]
          },
          "colorway": [
           "#636efa",
           "#EF553B",
           "#00cc96",
           "#ab63fa",
           "#FFA15A",
           "#19d3f3",
           "#FF6692",
           "#B6E880",
           "#FF97FF",
           "#FECB52"
          ],
          "font": {
           "color": "#2a3f5f"
          },
          "geo": {
           "bgcolor": "white",
           "lakecolor": "white",
           "landcolor": "#E5ECF6",
           "showlakes": true,
           "showland": true,
           "subunitcolor": "white"
          },
          "hoverlabel": {
           "align": "left"
          },
          "hovermode": "closest",
          "mapbox": {
           "style": "light"
          },
          "paper_bgcolor": "white",
          "plot_bgcolor": "#E5ECF6",
          "polar": {
           "angularaxis": {
            "gridcolor": "white",
            "linecolor": "white",
            "ticks": ""
           },
           "bgcolor": "#E5ECF6",
           "radialaxis": {
            "gridcolor": "white",
            "linecolor": "white",
            "ticks": ""
           }
          },
          "scene": {
           "xaxis": {
            "backgroundcolor": "#E5ECF6",
            "gridcolor": "white",
            "gridwidth": 2,
            "linecolor": "white",
            "showbackground": true,
            "ticks": "",
            "zerolinecolor": "white"
           },
           "yaxis": {
            "backgroundcolor": "#E5ECF6",
            "gridcolor": "white",
            "gridwidth": 2,
            "linecolor": "white",
            "showbackground": true,
            "ticks": "",
            "zerolinecolor": "white"
           },
           "zaxis": {
            "backgroundcolor": "#E5ECF6",
            "gridcolor": "white",
            "gridwidth": 2,
            "linecolor": "white",
            "showbackground": true,
            "ticks": "",
            "zerolinecolor": "white"
           }
          },
          "shapedefaults": {
           "line": {
            "color": "#2a3f5f"
           }
          },
          "ternary": {
           "aaxis": {
            "gridcolor": "white",
            "linecolor": "white",
            "ticks": ""
           },
           "baxis": {
            "gridcolor": "white",
            "linecolor": "white",
            "ticks": ""
           },
           "bgcolor": "#E5ECF6",
           "caxis": {
            "gridcolor": "white",
            "linecolor": "white",
            "ticks": ""
           }
          },
          "title": {
           "x": 0.05
          },
          "xaxis": {
           "automargin": true,
           "gridcolor": "white",
           "linecolor": "white",
           "ticks": "",
           "title": {
            "standoff": 15
           },
           "zerolinecolor": "white",
           "zerolinewidth": 2
          },
          "yaxis": {
           "automargin": true,
           "gridcolor": "white",
           "linecolor": "white",
           "ticks": "",
           "title": {
            "standoff": 15
           },
           "zerolinecolor": "white",
           "zerolinewidth": 2
          }
         }
        },
        "title": {
         "text": "Decision tree overfitting / underfitting check for max_depth = range(1,33)"
        },
        "xaxis": {
         "title": {
          "text": "Tree depth"
         }
        },
        "yaxis": {
         "title": {
          "text": "AUC score"
         }
        }
       }
      }
     },
     "metadata": {}
    }
   ],
   "source": [
    "# Create traces\n",
    "fig = go.Figure()\n",
    "fig.add_trace(go.Scatter(x=max_depths, y=train_results,\n",
    "                    mode='lines+markers',\n",
    "                    name='Training AUC'))\n",
    "fig.add_trace(go.Scatter(x=max_depths, y=test_results,\n",
    "                    mode='lines+markers',\n",
    "                    name='Test AUC'))\n",
    "\n",
    "fig.update_layout(title='Decision tree overfitting / underfitting check for max_depth = range(1,33)', xaxis_title = 'Tree depth', yaxis_title = 'AUC score')\n",
    "\n",
    "fig.show()"
   ]
  },
  {
   "source": [
    "---"
   ],
   "cell_type": "markdown",
   "metadata": {}
  },
  {
   "cell_type": "code",
   "execution_count": 20,
   "metadata": {},
   "outputs": [],
   "source": [
    "pipeline_rf = Pipeline([\n",
    "    ('vect', TfidfVectorizer()),\n",
    "    ('rf_classifier', RandomForestClassifier(random_state=42)),\n",
    "])"
   ]
  },
  {
   "cell_type": "code",
   "execution_count": 21,
   "metadata": {},
   "outputs": [],
   "source": [
    "parameters_rf = {   'rf_classifier__n_estimators':[25,50,100,200],\n",
    "                    'rf_classifier__max_features':[2,4,6,8],\n",
    "                    'rf_classifier__min_samples_split':[2,4,6,8],\n",
    "                    'rf_classifier__max_depth':[5,10,15,20,25]\n",
    "                }"
   ]
  },
  {
   "cell_type": "code",
   "execution_count": 22,
   "metadata": {},
   "outputs": [
    {
     "output_type": "stream",
     "name": "stdout",
     "text": [
      "Performing grid search...\n",
      "pipeline: ['vect', 'rf_classifier']\n",
      "parameters:\n",
      "{'rf_classifier__max_depth': [5, 10, 15, 20, 25],\n",
      " 'rf_classifier__max_features': [2, 4, 6, 8],\n",
      " 'rf_classifier__min_samples_split': [2, 4, 6, 8],\n",
      " 'rf_classifier__n_estimators': [25, 50, 100, 200]}\n",
      "Accuracy: 0.814567586139197\n",
      "Recall 0.814567586139197\n",
      "Precision 0.814567586139197\n",
      "F1-score 0.4489045171760887\n",
      "ROC_AUC 0.5\n",
      "done in 383.450s\n",
      "\n",
      "Best score: 0.860\n",
      "Best parameters set:\n",
      "\trf_classifier__max_depth: 25\n",
      "\trf_classifier__max_features: 8\n",
      "\trf_classifier__min_samples_split: 8\n",
      "\trf_classifier__n_estimators: 200\n",
      "              precision    recall  f1-score   support\n",
      "\n",
      "           0       0.00      0.00      0.00      3778\n",
      "           1       0.81      1.00      0.90     16596\n",
      "\n",
      "    accuracy                           0.81     20374\n",
      "   macro avg       0.41      0.50      0.45     20374\n",
      "weighted avg       0.66      0.81      0.73     20374\n",
      "\n"
     ]
    }
   ],
   "source": [
    "rf_grid = make_grid_search(pipeline_rf,parameters_rf)"
   ]
  },
  {
   "cell_type": "code",
   "execution_count": 23,
   "metadata": {},
   "outputs": [],
   "source": [
    "newparameters_rf = {    'rf_classifier__n_estimators':[25,50,100,200],\n",
    "                        'rf_classifier__max_depth':[5,10,15,20,25]\n",
    "                }"
   ]
  },
  {
   "cell_type": "code",
   "execution_count": 24,
   "metadata": {},
   "outputs": [
    {
     "output_type": "stream",
     "name": "stdout",
     "text": [
      "Performing grid search...\n",
      "pipeline: ['vect', 'rf_classifier']\n",
      "parameters:\n",
      "{'rf_classifier__max_depth': [5, 10, 15, 20, 25],\n",
      " 'rf_classifier__n_estimators': [25, 50, 100, 200]}\n",
      "Accuracy: 0.8150584077746147\n",
      "Recall 0.8150584077746147\n",
      "Precision 0.8150584077746147\n",
      "F1-score 0.45166588954867726\n",
      "ROC_AUC 0.5013234515616729\n",
      "done in 50.925s\n",
      "\n",
      "Best score: 0.891\n",
      "Best parameters set:\n",
      "\trf_classifier__max_depth: 25\n",
      "\trf_classifier__n_estimators: 200\n",
      "              precision    recall  f1-score   support\n",
      "\n",
      "           0       1.00      0.00      0.01      3778\n",
      "           1       0.81      1.00      0.90     16596\n",
      "\n",
      "    accuracy                           0.82     20374\n",
      "   macro avg       0.91      0.50      0.45     20374\n",
      "weighted avg       0.85      0.82      0.73     20374\n",
      "\n"
     ]
    }
   ],
   "source": [
    "rf_grid_new = make_grid_search(pipeline_rf,newparameters_rf)"
   ]
  },
  {
   "cell_type": "code",
   "execution_count": 7,
   "metadata": {},
   "outputs": [],
   "source": [
    "train_rf = []\n",
    "test_rf = []"
   ]
  },
  {
   "cell_type": "code",
   "execution_count": null,
   "metadata": {},
   "outputs": [],
   "source": [
    "train_rf_n_estimators = []\n",
    "test_rf_n_estimators = []\n",
    "\n",
    "max_depths = np.linspace(1, 32, 32, endpoint=True)\n",
    "for max_depth in max_depths:\n",
    "\n",
    "\n",
    "    rf = RandomForestClassifier(max_depth=max_depth,random_state=42)\n",
    "   \n",
    "    rf.fit(X_train_vect, y_train)\n",
    "    train_pred = rf.predict(X_train_vect)\n",
    "\n",
    "    false_positive_rate, true_positive_rate, thresholds = roc_curve(y_train, train_pred)\n",
    "    roc_auc = auc(false_positive_rate, true_positive_rate)\n",
    "    # Add auc score to previous train results\n",
    "    train_rf_n_estimators.append(roc_auc)\n",
    "    y_pred = rf.predict(X_test_vect)\n",
    "    false_positive_rate, true_positive_rate, thresholds = roc_curve(y_test, y_pred)\n",
    "    roc_auc = auc(false_positive_rate, true_positive_rate)\n",
    "    # Add auc score to previous test results\n",
    "    test_rf_n_estimators.append(roc_auc)\n",
    "    print('done for max_depth={}. current progress: {} %'.format(max_depth, (max_depth/len(max_depths)*100)))"
   ]
  },
  {
   "cell_type": "code",
   "execution_count": 29,
   "metadata": {},
   "outputs": [
    {
     "output_type": "stream",
     "name": "stdout",
     "text": [
      "done for max_depth=1.0. current progress: 3.125 %\n",
      "done for max_depth=2.0. current progress: 6.25 %\n",
      "done for max_depth=3.0. current progress: 9.375 %\n",
      "done for max_depth=4.0. current progress: 12.5 %\n",
      "done for max_depth=5.0. current progress: 15.625 %\n",
      "done for max_depth=6.0. current progress: 18.75 %\n",
      "done for max_depth=7.0. current progress: 21.875 %\n",
      "done for max_depth=8.0. current progress: 25.0 %\n",
      "done for max_depth=9.0. current progress: 28.125 %\n",
      "done for max_depth=10.0. current progress: 31.25 %\n",
      "done for max_depth=11.0. current progress: 34.375 %\n",
      "done for max_depth=12.0. current progress: 37.5 %\n",
      "done for max_depth=13.0. current progress: 40.625 %\n",
      "done for max_depth=14.0. current progress: 43.75 %\n",
      "done for max_depth=15.0. current progress: 46.875 %\n",
      "done for max_depth=16.0. current progress: 50.0 %\n",
      "done for max_depth=17.0. current progress: 53.125 %\n",
      "done for max_depth=18.0. current progress: 56.25 %\n",
      "done for max_depth=19.0. current progress: 59.375 %\n",
      "done for max_depth=20.0. current progress: 62.5 %\n",
      "done for max_depth=21.0. current progress: 65.625 %\n",
      "done for max_depth=22.0. current progress: 68.75 %\n",
      "done for max_depth=23.0. current progress: 71.875 %\n",
      "done for max_depth=24.0. current progress: 75.0 %\n",
      "done for max_depth=25.0. current progress: 78.125 %\n",
      "done for max_depth=26.0. current progress: 81.25 %\n",
      "done for max_depth=27.0. current progress: 84.375 %\n",
      "done for max_depth=28.0. current progress: 87.5 %\n",
      "done for max_depth=29.0. current progress: 90.625 %\n",
      "done for max_depth=30.0. current progress: 93.75 %\n",
      "done for max_depth=31.0. current progress: 96.875 %\n",
      "done for max_depth=32.0. current progress: 100.0 %\n"
     ]
    }
   ],
   "source": [
    "max_depths = np.linspace(1, 32, 32, endpoint=True)\n",
    "for max_depth in max_depths:\n",
    "\n",
    "    #pipeline_rf = Pipeline([\n",
    "    #('vect', TfidfVectorizer()),\n",
    "    #('rf_classifier', RandomForestClassifier(max_depth=max_depth,random_state=42)),\n",
    "    #])\n",
    "\n",
    "    rf = RandomForestClassifier(max_depth=max_depth,random_state=42)\n",
    "   \n",
    "    rf.fit(X_train_vect, y_train)\n",
    "    train_pred = rf.predict(X_train_vect)\n",
    "\n",
    "    false_positive_rate, true_positive_rate, thresholds = roc_curve(y_train, train_pred)\n",
    "    roc_auc = auc(false_positive_rate, true_positive_rate)\n",
    "    # Add auc score to previous train results\n",
    "    train_rf.append(roc_auc)\n",
    "    y_pred = rf.predict(X_test_vect)\n",
    "    false_positive_rate, true_positive_rate, thresholds = roc_curve(y_test, y_pred)\n",
    "    roc_auc = auc(false_positive_rate, true_positive_rate)\n",
    "    # Add auc score to previous test results\n",
    "    test_rf.append(roc_auc)\n",
    "    print('done for max_depth={}. current progress: {} %'.format(max_depth, (max_depth/len(max_depths)*100)))"
   ]
  },
  {
   "cell_type": "code",
   "execution_count": 30,
   "metadata": {},
   "outputs": [
    {
     "output_type": "stream",
     "name": "stdout",
     "text": [
      "[0.5, 0.5, 0.5, 0.5, 0.5, 0.5, 0.5, 0.5, 0.5, 0.5, 0.5, 0.5, 0.5, 0.5, 0.5, 0.5, 0.5, 0.5000567214974475, 0.500113442994895, 0.5003970504821327, 0.5003970504821327, 0.5013613159387408, 0.5018718094157686, 0.5028927963698242, 0.5040272263187748, 0.5042541123085649, 0.5055019852524107, 0.5070334656834941, 0.5092456040839478, 0.5120249574588769, 0.5144639818491208, 0.5179807146908678, 0.5211003970504822, 0.5246171298922291, 0.5293817356778219, 0.5, 0.5, 0.5, 0.5, 0.5, 0.5, 0.5, 0.5, 0.5, 0.5, 0.5, 0.5, 0.5, 0.5, 0.5000567214974475, 0.500113442994895, 0.5003970504821327, 0.5003970504821327, 0.5013613159387408, 0.5018718094157686, 0.5028927963698242, 0.5040272263187748, 0.5042541123085649, 0.5055019852524107, 0.5070334656834941, 0.5092456040839478, 0.5120249574588769, 0.5144639818491208, 0.5179807146908678, 0.5211003970504822, 0.5246171298922291, 0.5293817356778219] [0.5, 0.5, 0.5, 0.5, 0.5, 0.5, 0.5, 0.5, 0.5, 0.5, 0.5, 0.5, 0.5, 0.5, 0.5, 0.5, 0.5, 0.5, 0.5001323451561672, 0.5, 0.5003970354685019, 0.5005293806246691, 0.5006617257808363, 0.5010587612493382, 0.5013234515616729, 0.5014557967178401, 0.5019851773425092, 0.5021175224986765, 0.5031461560063903, 0.5036755366310595, 0.5044696075680632, 0.5057629313881116, 0.5, 0.5, 0.5, 0.5, 0.5, 0.5, 0.5, 0.5, 0.5, 0.5, 0.5, 0.5, 0.5, 0.5, 0.5, 0.5, 0.5, 0.5, 0.5001323451561672, 0.5, 0.5003970354685019, 0.5005293806246691, 0.5006617257808363, 0.5010587612493382, 0.5013234515616729, 0.5014557967178401, 0.5019851773425092, 0.5021175224986765, 0.5031461560063903, 0.5036755366310595, 0.5044696075680632, 0.5057629313881116]\n"
     ]
    }
   ],
   "source": [
    "print(train_rf, test_rf)"
   ]
  },
  {
   "cell_type": "code",
   "execution_count": 31,
   "metadata": {},
   "outputs": [
    {
     "output_type": "display_data",
     "data": {
      "application/vnd.plotly.v1+json": {
       "config": {
        "plotlyServerURL": "https://plot.ly"
       },
       "data": [
        {
         "mode": "lines+markers",
         "name": "Training AUC",
         "type": "scatter",
         "x": [
          1,
          2,
          3,
          4,
          5,
          6,
          7,
          8,
          9,
          10,
          11,
          12,
          13,
          14,
          15,
          16,
          17,
          18,
          19,
          20,
          21,
          22,
          23,
          24,
          25,
          26,
          27,
          28,
          29,
          30,
          31,
          32
         ],
         "y": [
          0.5,
          0.5,
          0.5,
          0.5,
          0.5,
          0.5,
          0.5,
          0.5,
          0.5,
          0.5,
          0.5,
          0.5,
          0.5,
          0.5,
          0.5,
          0.5,
          0.5,
          0.5000567214974475,
          0.500113442994895,
          0.5003970504821327,
          0.5003970504821327,
          0.5013613159387408,
          0.5018718094157686,
          0.5028927963698242,
          0.5040272263187748,
          0.5042541123085649,
          0.5055019852524107,
          0.5070334656834941,
          0.5092456040839478,
          0.5120249574588769,
          0.5144639818491208,
          0.5179807146908678,
          0.5211003970504822,
          0.5246171298922291,
          0.5293817356778219,
          0.5,
          0.5,
          0.5,
          0.5,
          0.5,
          0.5,
          0.5,
          0.5,
          0.5,
          0.5,
          0.5,
          0.5,
          0.5,
          0.5,
          0.5000567214974475,
          0.500113442994895,
          0.5003970504821327,
          0.5003970504821327,
          0.5013613159387408,
          0.5018718094157686,
          0.5028927963698242,
          0.5040272263187748,
          0.5042541123085649,
          0.5055019852524107,
          0.5070334656834941,
          0.5092456040839478,
          0.5120249574588769,
          0.5144639818491208,
          0.5179807146908678,
          0.5211003970504822,
          0.5246171298922291,
          0.5293817356778219
         ]
        },
        {
         "mode": "lines+markers",
         "name": "Test AUC",
         "type": "scatter",
         "x": [
          1,
          2,
          3,
          4,
          5,
          6,
          7,
          8,
          9,
          10,
          11,
          12,
          13,
          14,
          15,
          16,
          17,
          18,
          19,
          20,
          21,
          22,
          23,
          24,
          25,
          26,
          27,
          28,
          29,
          30,
          31,
          32
         ],
         "y": [
          0.5,
          0.5,
          0.5,
          0.5,
          0.5,
          0.5,
          0.5,
          0.5,
          0.5,
          0.5,
          0.5,
          0.5,
          0.5,
          0.5,
          0.5,
          0.5,
          0.5,
          0.5,
          0.5001323451561672,
          0.5,
          0.5003970354685019,
          0.5005293806246691,
          0.5006617257808363,
          0.5010587612493382,
          0.5013234515616729,
          0.5014557967178401,
          0.5019851773425092,
          0.5021175224986765,
          0.5031461560063903,
          0.5036755366310595,
          0.5044696075680632,
          0.5057629313881116,
          0.5,
          0.5,
          0.5,
          0.5,
          0.5,
          0.5,
          0.5,
          0.5,
          0.5,
          0.5,
          0.5,
          0.5,
          0.5,
          0.5,
          0.5,
          0.5,
          0.5,
          0.5,
          0.5001323451561672,
          0.5,
          0.5003970354685019,
          0.5005293806246691,
          0.5006617257808363,
          0.5010587612493382,
          0.5013234515616729,
          0.5014557967178401,
          0.5019851773425092,
          0.5021175224986765,
          0.5031461560063903,
          0.5036755366310595,
          0.5044696075680632,
          0.5057629313881116
         ]
        }
       ],
       "layout": {
        "template": {
         "data": {
          "bar": [
           {
            "error_x": {
             "color": "#2a3f5f"
            },
            "error_y": {
             "color": "#2a3f5f"
            },
            "marker": {
             "line": {
              "color": "#E5ECF6",
              "width": 0.5
             }
            },
            "type": "bar"
           }
          ],
          "barpolar": [
           {
            "marker": {
             "line": {
              "color": "#E5ECF6",
              "width": 0.5
             }
            },
            "type": "barpolar"
           }
          ],
          "carpet": [
           {
            "aaxis": {
             "endlinecolor": "#2a3f5f",
             "gridcolor": "white",
             "linecolor": "white",
             "minorgridcolor": "white",
             "startlinecolor": "#2a3f5f"
            },
            "baxis": {
             "endlinecolor": "#2a3f5f",
             "gridcolor": "white",
             "linecolor": "white",
             "minorgridcolor": "white",
             "startlinecolor": "#2a3f5f"
            },
            "type": "carpet"
           }
          ],
          "choropleth": [
           {
            "colorbar": {
             "outlinewidth": 0,
             "ticks": ""
            },
            "type": "choropleth"
           }
          ],
          "contour": [
           {
            "colorbar": {
             "outlinewidth": 0,
             "ticks": ""
            },
            "colorscale": [
             [
              0,
              "#0d0887"
             ],
             [
              0.1111111111111111,
              "#46039f"
             ],
             [
              0.2222222222222222,
              "#7201a8"
             ],
             [
              0.3333333333333333,
              "#9c179e"
             ],
             [
              0.4444444444444444,
              "#bd3786"
             ],
             [
              0.5555555555555556,
              "#d8576b"
             ],
             [
              0.6666666666666666,
              "#ed7953"
             ],
             [
              0.7777777777777778,
              "#fb9f3a"
             ],
             [
              0.8888888888888888,
              "#fdca26"
             ],
             [
              1,
              "#f0f921"
             ]
            ],
            "type": "contour"
           }
          ],
          "contourcarpet": [
           {
            "colorbar": {
             "outlinewidth": 0,
             "ticks": ""
            },
            "type": "contourcarpet"
           }
          ],
          "heatmap": [
           {
            "colorbar": {
             "outlinewidth": 0,
             "ticks": ""
            },
            "colorscale": [
             [
              0,
              "#0d0887"
             ],
             [
              0.1111111111111111,
              "#46039f"
             ],
             [
              0.2222222222222222,
              "#7201a8"
             ],
             [
              0.3333333333333333,
              "#9c179e"
             ],
             [
              0.4444444444444444,
              "#bd3786"
             ],
             [
              0.5555555555555556,
              "#d8576b"
             ],
             [
              0.6666666666666666,
              "#ed7953"
             ],
             [
              0.7777777777777778,
              "#fb9f3a"
             ],
             [
              0.8888888888888888,
              "#fdca26"
             ],
             [
              1,
              "#f0f921"
             ]
            ],
            "type": "heatmap"
           }
          ],
          "heatmapgl": [
           {
            "colorbar": {
             "outlinewidth": 0,
             "ticks": ""
            },
            "colorscale": [
             [
              0,
              "#0d0887"
             ],
             [
              0.1111111111111111,
              "#46039f"
             ],
             [
              0.2222222222222222,
              "#7201a8"
             ],
             [
              0.3333333333333333,
              "#9c179e"
             ],
             [
              0.4444444444444444,
              "#bd3786"
             ],
             [
              0.5555555555555556,
              "#d8576b"
             ],
             [
              0.6666666666666666,
              "#ed7953"
             ],
             [
              0.7777777777777778,
              "#fb9f3a"
             ],
             [
              0.8888888888888888,
              "#fdca26"
             ],
             [
              1,
              "#f0f921"
             ]
            ],
            "type": "heatmapgl"
           }
          ],
          "histogram": [
           {
            "marker": {
             "colorbar": {
              "outlinewidth": 0,
              "ticks": ""
             }
            },
            "type": "histogram"
           }
          ],
          "histogram2d": [
           {
            "colorbar": {
             "outlinewidth": 0,
             "ticks": ""
            },
            "colorscale": [
             [
              0,
              "#0d0887"
             ],
             [
              0.1111111111111111,
              "#46039f"
             ],
             [
              0.2222222222222222,
              "#7201a8"
             ],
             [
              0.3333333333333333,
              "#9c179e"
             ],
             [
              0.4444444444444444,
              "#bd3786"
             ],
             [
              0.5555555555555556,
              "#d8576b"
             ],
             [
              0.6666666666666666,
              "#ed7953"
             ],
             [
              0.7777777777777778,
              "#fb9f3a"
             ],
             [
              0.8888888888888888,
              "#fdca26"
             ],
             [
              1,
              "#f0f921"
             ]
            ],
            "type": "histogram2d"
           }
          ],
          "histogram2dcontour": [
           {
            "colorbar": {
             "outlinewidth": 0,
             "ticks": ""
            },
            "colorscale": [
             [
              0,
              "#0d0887"
             ],
             [
              0.1111111111111111,
              "#46039f"
             ],
             [
              0.2222222222222222,
              "#7201a8"
             ],
             [
              0.3333333333333333,
              "#9c179e"
             ],
             [
              0.4444444444444444,
              "#bd3786"
             ],
             [
              0.5555555555555556,
              "#d8576b"
             ],
             [
              0.6666666666666666,
              "#ed7953"
             ],
             [
              0.7777777777777778,
              "#fb9f3a"
             ],
             [
              0.8888888888888888,
              "#fdca26"
             ],
             [
              1,
              "#f0f921"
             ]
            ],
            "type": "histogram2dcontour"
           }
          ],
          "mesh3d": [
           {
            "colorbar": {
             "outlinewidth": 0,
             "ticks": ""
            },
            "type": "mesh3d"
           }
          ],
          "parcoords": [
           {
            "line": {
             "colorbar": {
              "outlinewidth": 0,
              "ticks": ""
             }
            },
            "type": "parcoords"
           }
          ],
          "pie": [
           {
            "automargin": true,
            "type": "pie"
           }
          ],
          "scatter": [
           {
            "marker": {
             "colorbar": {
              "outlinewidth": 0,
              "ticks": ""
             }
            },
            "type": "scatter"
           }
          ],
          "scatter3d": [
           {
            "line": {
             "colorbar": {
              "outlinewidth": 0,
              "ticks": ""
             }
            },
            "marker": {
             "colorbar": {
              "outlinewidth": 0,
              "ticks": ""
             }
            },
            "type": "scatter3d"
           }
          ],
          "scattercarpet": [
           {
            "marker": {
             "colorbar": {
              "outlinewidth": 0,
              "ticks": ""
             }
            },
            "type": "scattercarpet"
           }
          ],
          "scattergeo": [
           {
            "marker": {
             "colorbar": {
              "outlinewidth": 0,
              "ticks": ""
             }
            },
            "type": "scattergeo"
           }
          ],
          "scattergl": [
           {
            "marker": {
             "colorbar": {
              "outlinewidth": 0,
              "ticks": ""
             }
            },
            "type": "scattergl"
           }
          ],
          "scattermapbox": [
           {
            "marker": {
             "colorbar": {
              "outlinewidth": 0,
              "ticks": ""
             }
            },
            "type": "scattermapbox"
           }
          ],
          "scatterpolar": [
           {
            "marker": {
             "colorbar": {
              "outlinewidth": 0,
              "ticks": ""
             }
            },
            "type": "scatterpolar"
           }
          ],
          "scatterpolargl": [
           {
            "marker": {
             "colorbar": {
              "outlinewidth": 0,
              "ticks": ""
             }
            },
            "type": "scatterpolargl"
           }
          ],
          "scatterternary": [
           {
            "marker": {
             "colorbar": {
              "outlinewidth": 0,
              "ticks": ""
             }
            },
            "type": "scatterternary"
           }
          ],
          "surface": [
           {
            "colorbar": {
             "outlinewidth": 0,
             "ticks": ""
            },
            "colorscale": [
             [
              0,
              "#0d0887"
             ],
             [
              0.1111111111111111,
              "#46039f"
             ],
             [
              0.2222222222222222,
              "#7201a8"
             ],
             [
              0.3333333333333333,
              "#9c179e"
             ],
             [
              0.4444444444444444,
              "#bd3786"
             ],
             [
              0.5555555555555556,
              "#d8576b"
             ],
             [
              0.6666666666666666,
              "#ed7953"
             ],
             [
              0.7777777777777778,
              "#fb9f3a"
             ],
             [
              0.8888888888888888,
              "#fdca26"
             ],
             [
              1,
              "#f0f921"
             ]
            ],
            "type": "surface"
           }
          ],
          "table": [
           {
            "cells": {
             "fill": {
              "color": "#EBF0F8"
             },
             "line": {
              "color": "white"
             }
            },
            "header": {
             "fill": {
              "color": "#C8D4E3"
             },
             "line": {
              "color": "white"
             }
            },
            "type": "table"
           }
          ]
         },
         "layout": {
          "annotationdefaults": {
           "arrowcolor": "#2a3f5f",
           "arrowhead": 0,
           "arrowwidth": 1
          },
          "coloraxis": {
           "colorbar": {
            "outlinewidth": 0,
            "ticks": ""
           }
          },
          "colorscale": {
           "diverging": [
            [
             0,
             "#8e0152"
            ],
            [
             0.1,
             "#c51b7d"
            ],
            [
             0.2,
             "#de77ae"
            ],
            [
             0.3,
             "#f1b6da"
            ],
            [
             0.4,
             "#fde0ef"
            ],
            [
             0.5,
             "#f7f7f7"
            ],
            [
             0.6,
             "#e6f5d0"
            ],
            [
             0.7,
             "#b8e186"
            ],
            [
             0.8,
             "#7fbc41"
            ],
            [
             0.9,
             "#4d9221"
            ],
            [
             1,
             "#276419"
            ]
           ],
           "sequential": [
            [
             0,
             "#0d0887"
            ],
            [
             0.1111111111111111,
             "#46039f"
            ],
            [
             0.2222222222222222,
             "#7201a8"
            ],
            [
             0.3333333333333333,
             "#9c179e"
            ],
            [
             0.4444444444444444,
             "#bd3786"
            ],
            [
             0.5555555555555556,
             "#d8576b"
            ],
            [
             0.6666666666666666,
             "#ed7953"
            ],
            [
             0.7777777777777778,
             "#fb9f3a"
            ],
            [
             0.8888888888888888,
             "#fdca26"
            ],
            [
             1,
             "#f0f921"
            ]
           ],
           "sequentialminus": [
            [
             0,
             "#0d0887"
            ],
            [
             0.1111111111111111,
             "#46039f"
            ],
            [
             0.2222222222222222,
             "#7201a8"
            ],
            [
             0.3333333333333333,
             "#9c179e"
            ],
            [
             0.4444444444444444,
             "#bd3786"
            ],
            [
             0.5555555555555556,
             "#d8576b"
            ],
            [
             0.6666666666666666,
             "#ed7953"
            ],
            [
             0.7777777777777778,
             "#fb9f3a"
            ],
            [
             0.8888888888888888,
             "#fdca26"
            ],
            [
             1,
             "#f0f921"
            ]
           ]
          },
          "colorway": [
           "#636efa",
           "#EF553B",
           "#00cc96",
           "#ab63fa",
           "#FFA15A",
           "#19d3f3",
           "#FF6692",
           "#B6E880",
           "#FF97FF",
           "#FECB52"
          ],
          "font": {
           "color": "#2a3f5f"
          },
          "geo": {
           "bgcolor": "white",
           "lakecolor": "white",
           "landcolor": "#E5ECF6",
           "showlakes": true,
           "showland": true,
           "subunitcolor": "white"
          },
          "hoverlabel": {
           "align": "left"
          },
          "hovermode": "closest",
          "mapbox": {
           "style": "light"
          },
          "paper_bgcolor": "white",
          "plot_bgcolor": "#E5ECF6",
          "polar": {
           "angularaxis": {
            "gridcolor": "white",
            "linecolor": "white",
            "ticks": ""
           },
           "bgcolor": "#E5ECF6",
           "radialaxis": {
            "gridcolor": "white",
            "linecolor": "white",
            "ticks": ""
           }
          },
          "scene": {
           "xaxis": {
            "backgroundcolor": "#E5ECF6",
            "gridcolor": "white",
            "gridwidth": 2,
            "linecolor": "white",
            "showbackground": true,
            "ticks": "",
            "zerolinecolor": "white"
           },
           "yaxis": {
            "backgroundcolor": "#E5ECF6",
            "gridcolor": "white",
            "gridwidth": 2,
            "linecolor": "white",
            "showbackground": true,
            "ticks": "",
            "zerolinecolor": "white"
           },
           "zaxis": {
            "backgroundcolor": "#E5ECF6",
            "gridcolor": "white",
            "gridwidth": 2,
            "linecolor": "white",
            "showbackground": true,
            "ticks": "",
            "zerolinecolor": "white"
           }
          },
          "shapedefaults": {
           "line": {
            "color": "#2a3f5f"
           }
          },
          "ternary": {
           "aaxis": {
            "gridcolor": "white",
            "linecolor": "white",
            "ticks": ""
           },
           "baxis": {
            "gridcolor": "white",
            "linecolor": "white",
            "ticks": ""
           },
           "bgcolor": "#E5ECF6",
           "caxis": {
            "gridcolor": "white",
            "linecolor": "white",
            "ticks": ""
           }
          },
          "title": {
           "x": 0.05
          },
          "xaxis": {
           "automargin": true,
           "gridcolor": "white",
           "linecolor": "white",
           "ticks": "",
           "title": {
            "standoff": 15
           },
           "zerolinecolor": "white",
           "zerolinewidth": 2
          },
          "yaxis": {
           "automargin": true,
           "gridcolor": "white",
           "linecolor": "white",
           "ticks": "",
           "title": {
            "standoff": 15
           },
           "zerolinecolor": "white",
           "zerolinewidth": 2
          }
         }
        },
        "title": {
         "text": "Random Forest overfitting / underfitting check for max_depth in range(1,33)"
        },
        "xaxis": {
         "title": {
          "text": "Tree depth"
         }
        },
        "yaxis": {
         "title": {
          "text": "AUC score"
         }
        }
       }
      }
     },
     "metadata": {}
    }
   ],
   "source": [
    "# Create traces\n",
    "fig4 = go.Figure()\n",
    "fig4.add_trace(go.Scatter(x=max_depths, y=train_rf,\n",
    "                    mode='lines+markers',\n",
    "                    name='Training AUC'))\n",
    "fig4.add_trace(go.Scatter(x=max_depths, y=test_rf,\n",
    "                    mode='lines+markers',\n",
    "                    name='Test AUC'))\n",
    "\n",
    "fig4.update_layout(title='Random Forest overfitting / underfitting check for max_depth in range(1,33)', xaxis_title = 'Tree depth', yaxis_title = 'AUC score')\n",
    "\n",
    "fig4.show()"
   ]
  },
  {
   "cell_type": "code",
   "execution_count": 63,
   "metadata": {},
   "outputs": [
    {
     "output_type": "display_data",
     "data": {
      "application/vnd.plotly.v1+json": {
       "config": {
        "plotlyServerURL": "https://plot.ly"
       },
       "data": [
        {
         "mode": "lines+markers",
         "name": "Training AUC",
         "type": "scatter",
         "x": [
          1,
          2,
          3,
          4,
          5,
          6,
          7,
          8,
          9,
          10,
          11,
          12,
          13,
          14,
          15,
          16,
          17,
          18,
          19,
          20,
          21,
          22,
          23,
          24,
          25,
          26,
          27,
          28,
          29,
          30,
          31,
          32
         ],
         "y": [
          0.5,
          0.5,
          0.5,
          0.5,
          0.5,
          0.5,
          0.5,
          0.5,
          0.5,
          0.5,
          0.5,
          0.5,
          0.5,
          0.5000567214974475,
          0.5003970504821327,
          0.5009075439591606,
          0.5013613159387408,
          0.5015882019285309,
          0.5027226318774816,
          0.5038570618264322,
          0.5055587067498581,
          0.5071469086783891,
          0.5089619965967102,
          0.5114577424844016,
          0.5138967668746455,
          0.5177538287010777,
          0.5204197390811117,
          0.5235394214407261,
          0.5282473057288712,
          0.5327850255246738,
          0.5369256948383437,
          0.5410663641520136
         ]
        },
        {
         "mode": "lines+markers",
         "name": "Test AUC",
         "type": "scatter",
         "x": [
          1,
          2,
          3,
          4,
          5,
          6,
          7,
          8,
          9,
          10,
          11,
          12,
          13,
          14,
          15,
          16,
          17,
          18,
          19,
          20,
          21,
          22,
          23,
          24,
          25,
          26,
          27,
          28,
          29,
          30,
          31,
          32
         ],
         "y": [
          0.5,
          0.5,
          0.5,
          0.5,
          0.5,
          0.5,
          0.5,
          0.5,
          0.5,
          0.5,
          0.5,
          0.5,
          0.5,
          0.5,
          0.5,
          0.5001323451561672,
          0.5003970354685019,
          0.5006617257808363,
          0.5007940709370038,
          0.5006617257808363,
          0.5013234515616729,
          0.501852832186342,
          0.5015881418740074,
          0.5017204870301747,
          0.5025145579671784,
          0.5034108463187249,
          0.5046019527242305,
          0.5047342978803978,
          0.5072488558475762,
          0.5087046525654163,
          0.5103950118539665,
          0.5102626666977993
         ]
        }
       ],
       "layout": {
        "template": {
         "data": {
          "bar": [
           {
            "error_x": {
             "color": "#2a3f5f"
            },
            "error_y": {
             "color": "#2a3f5f"
            },
            "marker": {
             "line": {
              "color": "#E5ECF6",
              "width": 0.5
             }
            },
            "type": "bar"
           }
          ],
          "barpolar": [
           {
            "marker": {
             "line": {
              "color": "#E5ECF6",
              "width": 0.5
             }
            },
            "type": "barpolar"
           }
          ],
          "carpet": [
           {
            "aaxis": {
             "endlinecolor": "#2a3f5f",
             "gridcolor": "white",
             "linecolor": "white",
             "minorgridcolor": "white",
             "startlinecolor": "#2a3f5f"
            },
            "baxis": {
             "endlinecolor": "#2a3f5f",
             "gridcolor": "white",
             "linecolor": "white",
             "minorgridcolor": "white",
             "startlinecolor": "#2a3f5f"
            },
            "type": "carpet"
           }
          ],
          "choropleth": [
           {
            "colorbar": {
             "outlinewidth": 0,
             "ticks": ""
            },
            "type": "choropleth"
           }
          ],
          "contour": [
           {
            "colorbar": {
             "outlinewidth": 0,
             "ticks": ""
            },
            "colorscale": [
             [
              0,
              "#0d0887"
             ],
             [
              0.1111111111111111,
              "#46039f"
             ],
             [
              0.2222222222222222,
              "#7201a8"
             ],
             [
              0.3333333333333333,
              "#9c179e"
             ],
             [
              0.4444444444444444,
              "#bd3786"
             ],
             [
              0.5555555555555556,
              "#d8576b"
             ],
             [
              0.6666666666666666,
              "#ed7953"
             ],
             [
              0.7777777777777778,
              "#fb9f3a"
             ],
             [
              0.8888888888888888,
              "#fdca26"
             ],
             [
              1,
              "#f0f921"
             ]
            ],
            "type": "contour"
           }
          ],
          "contourcarpet": [
           {
            "colorbar": {
             "outlinewidth": 0,
             "ticks": ""
            },
            "type": "contourcarpet"
           }
          ],
          "heatmap": [
           {
            "colorbar": {
             "outlinewidth": 0,
             "ticks": ""
            },
            "colorscale": [
             [
              0,
              "#0d0887"
             ],
             [
              0.1111111111111111,
              "#46039f"
             ],
             [
              0.2222222222222222,
              "#7201a8"
             ],
             [
              0.3333333333333333,
              "#9c179e"
             ],
             [
              0.4444444444444444,
              "#bd3786"
             ],
             [
              0.5555555555555556,
              "#d8576b"
             ],
             [
              0.6666666666666666,
              "#ed7953"
             ],
             [
              0.7777777777777778,
              "#fb9f3a"
             ],
             [
              0.8888888888888888,
              "#fdca26"
             ],
             [
              1,
              "#f0f921"
             ]
            ],
            "type": "heatmap"
           }
          ],
          "heatmapgl": [
           {
            "colorbar": {
             "outlinewidth": 0,
             "ticks": ""
            },
            "colorscale": [
             [
              0,
              "#0d0887"
             ],
             [
              0.1111111111111111,
              "#46039f"
             ],
             [
              0.2222222222222222,
              "#7201a8"
             ],
             [
              0.3333333333333333,
              "#9c179e"
             ],
             [
              0.4444444444444444,
              "#bd3786"
             ],
             [
              0.5555555555555556,
              "#d8576b"
             ],
             [
              0.6666666666666666,
              "#ed7953"
             ],
             [
              0.7777777777777778,
              "#fb9f3a"
             ],
             [
              0.8888888888888888,
              "#fdca26"
             ],
             [
              1,
              "#f0f921"
             ]
            ],
            "type": "heatmapgl"
           }
          ],
          "histogram": [
           {
            "marker": {
             "colorbar": {
              "outlinewidth": 0,
              "ticks": ""
             }
            },
            "type": "histogram"
           }
          ],
          "histogram2d": [
           {
            "colorbar": {
             "outlinewidth": 0,
             "ticks": ""
            },
            "colorscale": [
             [
              0,
              "#0d0887"
             ],
             [
              0.1111111111111111,
              "#46039f"
             ],
             [
              0.2222222222222222,
              "#7201a8"
             ],
             [
              0.3333333333333333,
              "#9c179e"
             ],
             [
              0.4444444444444444,
              "#bd3786"
             ],
             [
              0.5555555555555556,
              "#d8576b"
             ],
             [
              0.6666666666666666,
              "#ed7953"
             ],
             [
              0.7777777777777778,
              "#fb9f3a"
             ],
             [
              0.8888888888888888,
              "#fdca26"
             ],
             [
              1,
              "#f0f921"
             ]
            ],
            "type": "histogram2d"
           }
          ],
          "histogram2dcontour": [
           {
            "colorbar": {
             "outlinewidth": 0,
             "ticks": ""
            },
            "colorscale": [
             [
              0,
              "#0d0887"
             ],
             [
              0.1111111111111111,
              "#46039f"
             ],
             [
              0.2222222222222222,
              "#7201a8"
             ],
             [
              0.3333333333333333,
              "#9c179e"
             ],
             [
              0.4444444444444444,
              "#bd3786"
             ],
             [
              0.5555555555555556,
              "#d8576b"
             ],
             [
              0.6666666666666666,
              "#ed7953"
             ],
             [
              0.7777777777777778,
              "#fb9f3a"
             ],
             [
              0.8888888888888888,
              "#fdca26"
             ],
             [
              1,
              "#f0f921"
             ]
            ],
            "type": "histogram2dcontour"
           }
          ],
          "mesh3d": [
           {
            "colorbar": {
             "outlinewidth": 0,
             "ticks": ""
            },
            "type": "mesh3d"
           }
          ],
          "parcoords": [
           {
            "line": {
             "colorbar": {
              "outlinewidth": 0,
              "ticks": ""
             }
            },
            "type": "parcoords"
           }
          ],
          "pie": [
           {
            "automargin": true,
            "type": "pie"
           }
          ],
          "scatter": [
           {
            "marker": {
             "colorbar": {
              "outlinewidth": 0,
              "ticks": ""
             }
            },
            "type": "scatter"
           }
          ],
          "scatter3d": [
           {
            "line": {
             "colorbar": {
              "outlinewidth": 0,
              "ticks": ""
             }
            },
            "marker": {
             "colorbar": {
              "outlinewidth": 0,
              "ticks": ""
             }
            },
            "type": "scatter3d"
           }
          ],
          "scattercarpet": [
           {
            "marker": {
             "colorbar": {
              "outlinewidth": 0,
              "ticks": ""
             }
            },
            "type": "scattercarpet"
           }
          ],
          "scattergeo": [
           {
            "marker": {
             "colorbar": {
              "outlinewidth": 0,
              "ticks": ""
             }
            },
            "type": "scattergeo"
           }
          ],
          "scattergl": [
           {
            "marker": {
             "colorbar": {
              "outlinewidth": 0,
              "ticks": ""
             }
            },
            "type": "scattergl"
           }
          ],
          "scattermapbox": [
           {
            "marker": {
             "colorbar": {
              "outlinewidth": 0,
              "ticks": ""
             }
            },
            "type": "scattermapbox"
           }
          ],
          "scatterpolar": [
           {
            "marker": {
             "colorbar": {
              "outlinewidth": 0,
              "ticks": ""
             }
            },
            "type": "scatterpolar"
           }
          ],
          "scatterpolargl": [
           {
            "marker": {
             "colorbar": {
              "outlinewidth": 0,
              "ticks": ""
             }
            },
            "type": "scatterpolargl"
           }
          ],
          "scatterternary": [
           {
            "marker": {
             "colorbar": {
              "outlinewidth": 0,
              "ticks": ""
             }
            },
            "type": "scatterternary"
           }
          ],
          "surface": [
           {
            "colorbar": {
             "outlinewidth": 0,
             "ticks": ""
            },
            "colorscale": [
             [
              0,
              "#0d0887"
             ],
             [
              0.1111111111111111,
              "#46039f"
             ],
             [
              0.2222222222222222,
              "#7201a8"
             ],
             [
              0.3333333333333333,
              "#9c179e"
             ],
             [
              0.4444444444444444,
              "#bd3786"
             ],
             [
              0.5555555555555556,
              "#d8576b"
             ],
             [
              0.6666666666666666,
              "#ed7953"
             ],
             [
              0.7777777777777778,
              "#fb9f3a"
             ],
             [
              0.8888888888888888,
              "#fdca26"
             ],
             [
              1,
              "#f0f921"
             ]
            ],
            "type": "surface"
           }
          ],
          "table": [
           {
            "cells": {
             "fill": {
              "color": "#EBF0F8"
             },
             "line": {
              "color": "white"
             }
            },
            "header": {
             "fill": {
              "color": "#C8D4E3"
             },
             "line": {
              "color": "white"
             }
            },
            "type": "table"
           }
          ]
         },
         "layout": {
          "annotationdefaults": {
           "arrowcolor": "#2a3f5f",
           "arrowhead": 0,
           "arrowwidth": 1
          },
          "coloraxis": {
           "colorbar": {
            "outlinewidth": 0,
            "ticks": ""
           }
          },
          "colorscale": {
           "diverging": [
            [
             0,
             "#8e0152"
            ],
            [
             0.1,
             "#c51b7d"
            ],
            [
             0.2,
             "#de77ae"
            ],
            [
             0.3,
             "#f1b6da"
            ],
            [
             0.4,
             "#fde0ef"
            ],
            [
             0.5,
             "#f7f7f7"
            ],
            [
             0.6,
             "#e6f5d0"
            ],
            [
             0.7,
             "#b8e186"
            ],
            [
             0.8,
             "#7fbc41"
            ],
            [
             0.9,
             "#4d9221"
            ],
            [
             1,
             "#276419"
            ]
           ],
           "sequential": [
            [
             0,
             "#0d0887"
            ],
            [
             0.1111111111111111,
             "#46039f"
            ],
            [
             0.2222222222222222,
             "#7201a8"
            ],
            [
             0.3333333333333333,
             "#9c179e"
            ],
            [
             0.4444444444444444,
             "#bd3786"
            ],
            [
             0.5555555555555556,
             "#d8576b"
            ],
            [
             0.6666666666666666,
             "#ed7953"
            ],
            [
             0.7777777777777778,
             "#fb9f3a"
            ],
            [
             0.8888888888888888,
             "#fdca26"
            ],
            [
             1,
             "#f0f921"
            ]
           ],
           "sequentialminus": [
            [
             0,
             "#0d0887"
            ],
            [
             0.1111111111111111,
             "#46039f"
            ],
            [
             0.2222222222222222,
             "#7201a8"
            ],
            [
             0.3333333333333333,
             "#9c179e"
            ],
            [
             0.4444444444444444,
             "#bd3786"
            ],
            [
             0.5555555555555556,
             "#d8576b"
            ],
            [
             0.6666666666666666,
             "#ed7953"
            ],
            [
             0.7777777777777778,
             "#fb9f3a"
            ],
            [
             0.8888888888888888,
             "#fdca26"
            ],
            [
             1,
             "#f0f921"
            ]
           ]
          },
          "colorway": [
           "#636efa",
           "#EF553B",
           "#00cc96",
           "#ab63fa",
           "#FFA15A",
           "#19d3f3",
           "#FF6692",
           "#B6E880",
           "#FF97FF",
           "#FECB52"
          ],
          "font": {
           "color": "#2a3f5f"
          },
          "geo": {
           "bgcolor": "white",
           "lakecolor": "white",
           "landcolor": "#E5ECF6",
           "showlakes": true,
           "showland": true,
           "subunitcolor": "white"
          },
          "hoverlabel": {
           "align": "left"
          },
          "hovermode": "closest",
          "mapbox": {
           "style": "light"
          },
          "paper_bgcolor": "white",
          "plot_bgcolor": "#E5ECF6",
          "polar": {
           "angularaxis": {
            "gridcolor": "white",
            "linecolor": "white",
            "ticks": ""
           },
           "bgcolor": "#E5ECF6",
           "radialaxis": {
            "gridcolor": "white",
            "linecolor": "white",
            "ticks": ""
           }
          },
          "scene": {
           "xaxis": {
            "backgroundcolor": "#E5ECF6",
            "gridcolor": "white",
            "gridwidth": 2,
            "linecolor": "white",
            "showbackground": true,
            "ticks": "",
            "zerolinecolor": "white"
           },
           "yaxis": {
            "backgroundcolor": "#E5ECF6",
            "gridcolor": "white",
            "gridwidth": 2,
            "linecolor": "white",
            "showbackground": true,
            "ticks": "",
            "zerolinecolor": "white"
           },
           "zaxis": {
            "backgroundcolor": "#E5ECF6",
            "gridcolor": "white",
            "gridwidth": 2,
            "linecolor": "white",
            "showbackground": true,
            "ticks": "",
            "zerolinecolor": "white"
           }
          },
          "shapedefaults": {
           "line": {
            "color": "#2a3f5f"
           }
          },
          "ternary": {
           "aaxis": {
            "gridcolor": "white",
            "linecolor": "white",
            "ticks": ""
           },
           "baxis": {
            "gridcolor": "white",
            "linecolor": "white",
            "ticks": ""
           },
           "bgcolor": "#E5ECF6",
           "caxis": {
            "gridcolor": "white",
            "linecolor": "white",
            "ticks": ""
           }
          },
          "title": {
           "x": 0.05
          },
          "xaxis": {
           "automargin": true,
           "gridcolor": "white",
           "linecolor": "white",
           "ticks": "",
           "title": {
            "standoff": 15
           },
           "zerolinecolor": "white",
           "zerolinewidth": 2
          },
          "yaxis": {
           "automargin": true,
           "gridcolor": "white",
           "linecolor": "white",
           "ticks": "",
           "title": {
            "standoff": 15
           },
           "zerolinecolor": "white",
           "zerolinewidth": 2
          }
         }
        },
        "title": {
         "text": "Random Forest overfitting / underfitting check for max_depth in range(1,33)"
        },
        "xaxis": {
         "title": {
          "text": "Tree depth"
         }
        },
        "yaxis": {
         "title": {
          "text": "AUC score"
         }
        }
       }
      }
     },
     "metadata": {}
    }
   ],
   "source": [
    "# Create traces\n",
    "fig2 = go.Figure()\n",
    "fig2.add_trace(go.Scatter(x=max_depths, y=train_rf,\n",
    "                    mode='lines+markers',\n",
    "                    name='Training AUC'))\n",
    "fig2.add_trace(go.Scatter(x=max_depths, y=test_rf,\n",
    "                    mode='lines+markers',\n",
    "                    name='Test AUC'))\n",
    "\n",
    "fig2.update_layout(title='Random Forest overfitting / underfitting check for max_depth in range(1,33)', xaxis_title = 'Tree depth', yaxis_title = 'AUC score')\n",
    "\n",
    "fig2.show()"
   ]
  }
 ]
}