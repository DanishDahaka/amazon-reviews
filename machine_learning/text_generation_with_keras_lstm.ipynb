{
 "cells": [
  {
   "cell_type": "markdown",
   "metadata": {},
   "source": [
    "# Keras LSTM Text prediction"
   ]
  },
  {
   "cell_type": "markdown",
   "metadata": {},
   "source": [
    "## Imports"
   ]
  },
  {
   "cell_type": "code",
   "execution_count": 1,
   "metadata": {},
   "outputs": [],
   "source": [
    "import numpy\n",
    "import json\n",
    "import re\n",
    "import pandas as pd\n",
    "from keras.models import Sequential\n",
    "from keras.layers import Dense, Dropout, LSTM\n",
    "from keras.callbacks import ModelCheckpoint\n",
    "from keras.utils import np_utils\n",
    "from gensim.parsing.preprocessing import preprocess_string, strip_numeric, strip_punctuation, remove_stopwords\n",
    "from gensim.corpora import Dictionary as d"
   ]
  },
  {
   "cell_type": "code",
   "execution_count": 2,
   "metadata": {},
   "outputs": [
    {
     "data": {
      "text/html": [
       "<style>.container { width:100% !important; }</style>"
      ],
      "text/plain": [
       "<IPython.core.display.HTML object>"
      ]
     },
     "metadata": {},
     "output_type": "display_data"
    }
   ],
   "source": [
    "#changing notebooke width\n",
    "from IPython.core.display import display, HTML\n",
    "display(HTML(\"<style>.container { width:100% !important; }</style>\"))"
   ]
  },
  {
   "cell_type": "markdown",
   "metadata": {},
   "source": [
    "## Functions"
   ]
  },
  {
   "cell_type": "code",
   "execution_count": 3,
   "metadata": {},
   "outputs": [],
   "source": [
    "#loading dataframe function\n",
    "def dataframe_from_json(filename):\n",
    "    data = []\n",
    "    with open(filename) as f:\n",
    "        for line in f:\n",
    "            data.append(json.loads(line.strip()))\n",
    "    df = pd.DataFrame.from_dict(data)\n",
    "    return df"
   ]
  },
  {
   "cell_type": "code",
   "execution_count": null,
   "metadata": {},
   "outputs": [],
   "source": []
  },
  {
   "cell_type": "markdown",
   "metadata": {},
   "source": [
    "## Loading the file"
   ]
  },
  {
   "cell_type": "code",
   "execution_count": 4,
   "metadata": {},
   "outputs": [],
   "source": [
    "#replace either with URL or your directory\n",
    "in_luxury = dataframe_from_json('/Users/niklastodenhoefer/Library/Mobile Documents/com~apple~CloudDocs/Data Science CBS/3. Semester/Data Science for Business Applications/Project/Amazon Reviews/Luxury_Beauty.json') "
   ]
  },
  {
   "cell_type": "code",
   "execution_count": 5,
   "metadata": {},
   "outputs": [
    {
     "name": "stdout",
     "output_type": "stream",
     "text": [
      "<class 'pandas.core.frame.DataFrame'>\n",
      "RangeIndex: 574628 entries, 0 to 574627\n",
      "Data columns (total 12 columns):\n",
      " #   Column          Non-Null Count   Dtype  \n",
      "---  ------          --------------   -----  \n",
      " 0   overall         574628 non-null  float64\n",
      " 1   vote            103689 non-null  object \n",
      " 2   verified        574628 non-null  bool   \n",
      " 3   reviewTime      574628 non-null  object \n",
      " 4   reviewerID      574628 non-null  object \n",
      " 5   asin            574628 non-null  object \n",
      " 6   reviewerName    574597 non-null  object \n",
      " 7   reviewText      574228 non-null  object \n",
      " 8   summary         574445 non-null  object \n",
      " 9   unixReviewTime  574628 non-null  int64  \n",
      " 10  style           251013 non-null  object \n",
      " 11  image           7418 non-null    object \n",
      "dtypes: bool(1), float64(1), int64(1), object(9)\n",
      "memory usage: 48.8+ MB\n"
     ]
    }
   ],
   "source": [
    "in_luxury.info()"
   ]
  },
  {
   "cell_type": "code",
   "execution_count": 6,
   "metadata": {},
   "outputs": [
    {
     "data": {
      "text/html": [
       "<div>\n",
       "<style scoped>\n",
       "    .dataframe tbody tr th:only-of-type {\n",
       "        vertical-align: middle;\n",
       "    }\n",
       "\n",
       "    .dataframe tbody tr th {\n",
       "        vertical-align: top;\n",
       "    }\n",
       "\n",
       "    .dataframe thead th {\n",
       "        text-align: right;\n",
       "    }\n",
       "</style>\n",
       "<table border=\"1\" class=\"dataframe\">\n",
       "  <thead>\n",
       "    <tr style=\"text-align: right;\">\n",
       "      <th></th>\n",
       "      <th>overall</th>\n",
       "      <th>vote</th>\n",
       "      <th>verified</th>\n",
       "      <th>reviewTime</th>\n",
       "      <th>reviewerID</th>\n",
       "      <th>asin</th>\n",
       "      <th>reviewerName</th>\n",
       "      <th>reviewText</th>\n",
       "      <th>summary</th>\n",
       "      <th>unixReviewTime</th>\n",
       "      <th>style</th>\n",
       "      <th>image</th>\n",
       "    </tr>\n",
       "  </thead>\n",
       "  <tbody>\n",
       "    <tr>\n",
       "      <th>0</th>\n",
       "      <td>2.0</td>\n",
       "      <td>3</td>\n",
       "      <td>True</td>\n",
       "      <td>06 15, 2010</td>\n",
       "      <td>A1Q6MUU0B2ZDQG</td>\n",
       "      <td>B00004U9V2</td>\n",
       "      <td>D. Poston</td>\n",
       "      <td>I bought two of these 8.5 fl oz hand cream, an...</td>\n",
       "      <td>dispensers don't work</td>\n",
       "      <td>1276560000</td>\n",
       "      <td>NaN</td>\n",
       "      <td>NaN</td>\n",
       "    </tr>\n",
       "    <tr>\n",
       "      <th>1</th>\n",
       "      <td>5.0</td>\n",
       "      <td>14</td>\n",
       "      <td>True</td>\n",
       "      <td>01 7, 2010</td>\n",
       "      <td>A3HO2SQDCZIE9S</td>\n",
       "      <td>B00004U9V2</td>\n",
       "      <td>chandra</td>\n",
       "      <td>Believe me, over the years I have tried many, ...</td>\n",
       "      <td>Best hand cream ever.</td>\n",
       "      <td>1262822400</td>\n",
       "      <td>NaN</td>\n",
       "      <td>NaN</td>\n",
       "    </tr>\n",
       "    <tr>\n",
       "      <th>2</th>\n",
       "      <td>5.0</td>\n",
       "      <td>NaN</td>\n",
       "      <td>True</td>\n",
       "      <td>04 18, 2018</td>\n",
       "      <td>A2EM03F99X3RJZ</td>\n",
       "      <td>B00004U9V2</td>\n",
       "      <td>Maureen G</td>\n",
       "      <td>Great hand lotion</td>\n",
       "      <td>Five Stars</td>\n",
       "      <td>1524009600</td>\n",
       "      <td>{'Size:': ' 3.5 oz.'}</td>\n",
       "      <td>NaN</td>\n",
       "    </tr>\n",
       "    <tr>\n",
       "      <th>3</th>\n",
       "      <td>5.0</td>\n",
       "      <td>NaN</td>\n",
       "      <td>True</td>\n",
       "      <td>04 18, 2018</td>\n",
       "      <td>A3Z74TDRGD0HU</td>\n",
       "      <td>B00004U9V2</td>\n",
       "      <td>Terry K</td>\n",
       "      <td>This is the best for the severely dry skin on ...</td>\n",
       "      <td>Five Stars</td>\n",
       "      <td>1524009600</td>\n",
       "      <td>{'Size:': ' 3.5 oz.'}</td>\n",
       "      <td>NaN</td>\n",
       "    </tr>\n",
       "    <tr>\n",
       "      <th>4</th>\n",
       "      <td>5.0</td>\n",
       "      <td>NaN</td>\n",
       "      <td>True</td>\n",
       "      <td>04 17, 2018</td>\n",
       "      <td>A2UXFNW9RTL4VM</td>\n",
       "      <td>B00004U9V2</td>\n",
       "      <td>Patricia Wood</td>\n",
       "      <td>The best non- oily hand cream ever. It heals o...</td>\n",
       "      <td>I always have a backup ready.</td>\n",
       "      <td>1523923200</td>\n",
       "      <td>{'Size:': ' 3.5 oz.'}</td>\n",
       "      <td>NaN</td>\n",
       "    </tr>\n",
       "  </tbody>\n",
       "</table>\n",
       "</div>"
      ],
      "text/plain": [
       "   overall vote  verified   reviewTime      reviewerID        asin  \\\n",
       "0      2.0    3      True  06 15, 2010  A1Q6MUU0B2ZDQG  B00004U9V2   \n",
       "1      5.0   14      True   01 7, 2010  A3HO2SQDCZIE9S  B00004U9V2   \n",
       "2      5.0  NaN      True  04 18, 2018  A2EM03F99X3RJZ  B00004U9V2   \n",
       "3      5.0  NaN      True  04 18, 2018   A3Z74TDRGD0HU  B00004U9V2   \n",
       "4      5.0  NaN      True  04 17, 2018  A2UXFNW9RTL4VM  B00004U9V2   \n",
       "\n",
       "    reviewerName                                         reviewText  \\\n",
       "0      D. Poston  I bought two of these 8.5 fl oz hand cream, an...   \n",
       "1        chandra  Believe me, over the years I have tried many, ...   \n",
       "2      Maureen G                                  Great hand lotion   \n",
       "3        Terry K  This is the best for the severely dry skin on ...   \n",
       "4  Patricia Wood  The best non- oily hand cream ever. It heals o...   \n",
       "\n",
       "                         summary  unixReviewTime                  style image  \n",
       "0          dispensers don't work      1276560000                    NaN   NaN  \n",
       "1          Best hand cream ever.      1262822400                    NaN   NaN  \n",
       "2                     Five Stars      1524009600  {'Size:': ' 3.5 oz.'}   NaN  \n",
       "3                     Five Stars      1524009600  {'Size:': ' 3.5 oz.'}   NaN  \n",
       "4  I always have a backup ready.      1523923200  {'Size:': ' 3.5 oz.'}   NaN  "
      ]
     },
     "execution_count": 6,
     "metadata": {},
     "output_type": "execute_result"
    }
   ],
   "source": [
    "in_luxury.head()"
   ]
  },
  {
   "cell_type": "markdown",
   "metadata": {},
   "source": [
    "## Text preprocessing"
   ]
  },
  {
   "cell_type": "code",
   "execution_count": 7,
   "metadata": {},
   "outputs": [],
   "source": [
    "#replace non alphabetical (and non-space) chars with empty chars\n",
    "in_luxury['preprocessed_text'] = in_luxury['reviewText'].apply(lambda x: re.sub(r'[^A-Za-z ]+', '', str(x)))"
   ]
  },
  {
   "cell_type": "code",
   "execution_count": 8,
   "metadata": {
    "scrolled": true
   },
   "outputs": [
    {
     "data": {
      "text/html": [
       "<div>\n",
       "<style scoped>\n",
       "    .dataframe tbody tr th:only-of-type {\n",
       "        vertical-align: middle;\n",
       "    }\n",
       "\n",
       "    .dataframe tbody tr th {\n",
       "        vertical-align: top;\n",
       "    }\n",
       "\n",
       "    .dataframe thead th {\n",
       "        text-align: right;\n",
       "    }\n",
       "</style>\n",
       "<table border=\"1\" class=\"dataframe\">\n",
       "  <thead>\n",
       "    <tr style=\"text-align: right;\">\n",
       "      <th></th>\n",
       "      <th>overall</th>\n",
       "      <th>vote</th>\n",
       "      <th>verified</th>\n",
       "      <th>reviewTime</th>\n",
       "      <th>reviewerID</th>\n",
       "      <th>asin</th>\n",
       "      <th>reviewerName</th>\n",
       "      <th>reviewText</th>\n",
       "      <th>summary</th>\n",
       "      <th>unixReviewTime</th>\n",
       "      <th>style</th>\n",
       "      <th>image</th>\n",
       "      <th>preprocessed_text</th>\n",
       "    </tr>\n",
       "  </thead>\n",
       "  <tbody>\n",
       "    <tr>\n",
       "      <th>0</th>\n",
       "      <td>2.0</td>\n",
       "      <td>3</td>\n",
       "      <td>True</td>\n",
       "      <td>06 15, 2010</td>\n",
       "      <td>A1Q6MUU0B2ZDQG</td>\n",
       "      <td>B00004U9V2</td>\n",
       "      <td>D. Poston</td>\n",
       "      <td>I bought two of these 8.5 fl oz hand cream, an...</td>\n",
       "      <td>dispensers don't work</td>\n",
       "      <td>1276560000</td>\n",
       "      <td>NaN</td>\n",
       "      <td>NaN</td>\n",
       "      <td>I bought two of these  fl oz hand cream and ne...</td>\n",
       "    </tr>\n",
       "    <tr>\n",
       "      <th>1</th>\n",
       "      <td>5.0</td>\n",
       "      <td>14</td>\n",
       "      <td>True</td>\n",
       "      <td>01 7, 2010</td>\n",
       "      <td>A3HO2SQDCZIE9S</td>\n",
       "      <td>B00004U9V2</td>\n",
       "      <td>chandra</td>\n",
       "      <td>Believe me, over the years I have tried many, ...</td>\n",
       "      <td>Best hand cream ever.</td>\n",
       "      <td>1262822400</td>\n",
       "      <td>NaN</td>\n",
       "      <td>NaN</td>\n",
       "      <td>Believe me over the years I have tried many ma...</td>\n",
       "    </tr>\n",
       "    <tr>\n",
       "      <th>2</th>\n",
       "      <td>5.0</td>\n",
       "      <td>NaN</td>\n",
       "      <td>True</td>\n",
       "      <td>04 18, 2018</td>\n",
       "      <td>A2EM03F99X3RJZ</td>\n",
       "      <td>B00004U9V2</td>\n",
       "      <td>Maureen G</td>\n",
       "      <td>Great hand lotion</td>\n",
       "      <td>Five Stars</td>\n",
       "      <td>1524009600</td>\n",
       "      <td>{'Size:': ' 3.5 oz.'}</td>\n",
       "      <td>NaN</td>\n",
       "      <td>Great hand lotion</td>\n",
       "    </tr>\n",
       "    <tr>\n",
       "      <th>3</th>\n",
       "      <td>5.0</td>\n",
       "      <td>NaN</td>\n",
       "      <td>True</td>\n",
       "      <td>04 18, 2018</td>\n",
       "      <td>A3Z74TDRGD0HU</td>\n",
       "      <td>B00004U9V2</td>\n",
       "      <td>Terry K</td>\n",
       "      <td>This is the best for the severely dry skin on ...</td>\n",
       "      <td>Five Stars</td>\n",
       "      <td>1524009600</td>\n",
       "      <td>{'Size:': ' 3.5 oz.'}</td>\n",
       "      <td>NaN</td>\n",
       "      <td>This is the best for the severely dry skin on ...</td>\n",
       "    </tr>\n",
       "    <tr>\n",
       "      <th>4</th>\n",
       "      <td>5.0</td>\n",
       "      <td>NaN</td>\n",
       "      <td>True</td>\n",
       "      <td>04 17, 2018</td>\n",
       "      <td>A2UXFNW9RTL4VM</td>\n",
       "      <td>B00004U9V2</td>\n",
       "      <td>Patricia Wood</td>\n",
       "      <td>The best non- oily hand cream ever. It heals o...</td>\n",
       "      <td>I always have a backup ready.</td>\n",
       "      <td>1523923200</td>\n",
       "      <td>{'Size:': ' 3.5 oz.'}</td>\n",
       "      <td>NaN</td>\n",
       "      <td>The best non oily hand cream ever It heals ove...</td>\n",
       "    </tr>\n",
       "  </tbody>\n",
       "</table>\n",
       "</div>"
      ],
      "text/plain": [
       "   overall vote  verified   reviewTime      reviewerID        asin  \\\n",
       "0      2.0    3      True  06 15, 2010  A1Q6MUU0B2ZDQG  B00004U9V2   \n",
       "1      5.0   14      True   01 7, 2010  A3HO2SQDCZIE9S  B00004U9V2   \n",
       "2      5.0  NaN      True  04 18, 2018  A2EM03F99X3RJZ  B00004U9V2   \n",
       "3      5.0  NaN      True  04 18, 2018   A3Z74TDRGD0HU  B00004U9V2   \n",
       "4      5.0  NaN      True  04 17, 2018  A2UXFNW9RTL4VM  B00004U9V2   \n",
       "\n",
       "    reviewerName                                         reviewText  \\\n",
       "0      D. Poston  I bought two of these 8.5 fl oz hand cream, an...   \n",
       "1        chandra  Believe me, over the years I have tried many, ...   \n",
       "2      Maureen G                                  Great hand lotion   \n",
       "3        Terry K  This is the best for the severely dry skin on ...   \n",
       "4  Patricia Wood  The best non- oily hand cream ever. It heals o...   \n",
       "\n",
       "                         summary  unixReviewTime                  style image  \\\n",
       "0          dispensers don't work      1276560000                    NaN   NaN   \n",
       "1          Best hand cream ever.      1262822400                    NaN   NaN   \n",
       "2                     Five Stars      1524009600  {'Size:': ' 3.5 oz.'}   NaN   \n",
       "3                     Five Stars      1524009600  {'Size:': ' 3.5 oz.'}   NaN   \n",
       "4  I always have a backup ready.      1523923200  {'Size:': ' 3.5 oz.'}   NaN   \n",
       "\n",
       "                                   preprocessed_text  \n",
       "0  I bought two of these  fl oz hand cream and ne...  \n",
       "1  Believe me over the years I have tried many ma...  \n",
       "2                                  Great hand lotion  \n",
       "3  This is the best for the severely dry skin on ...  \n",
       "4  The best non oily hand cream ever It heals ove...  "
      ]
     },
     "execution_count": 8,
     "metadata": {},
     "output_type": "execute_result"
    }
   ],
   "source": [
    "#checking dataframe after cleaning\n",
    "in_luxury.head()"
   ]
  },
  {
   "cell_type": "code",
   "execution_count": 9,
   "metadata": {},
   "outputs": [],
   "source": [
    "text = ''"
   ]
  },
  {
   "cell_type": "code",
   "execution_count": 17,
   "metadata": {},
   "outputs": [],
   "source": [
    "#add text from preprocessed_text column to one large string from which to build the vocab\n",
    "for i in range(0,5000):\n",
    "    text = text + str(in_luxury.iloc[i,12])"
   ]
  },
  {
   "cell_type": "code",
   "execution_count": 18,
   "metadata": {},
   "outputs": [
    {
     "name": "stdout",
     "output_type": "stream",
     "text": [
      "amount of words we have in the entire text is: 772787\n"
     ]
    }
   ],
   "source": [
    "print('amount of words we have in the entire text is: {}'.format(len(text)))"
   ]
  },
  {
   "cell_type": "code",
   "execution_count": 19,
   "metadata": {},
   "outputs": [],
   "source": [
    "text = text.lower()"
   ]
  },
  {
   "cell_type": "code",
   "execution_count": 20,
   "metadata": {},
   "outputs": [
    {
     "name": "stdout",
     "output_type": "stream",
     "text": [
      "i bought t\n"
     ]
    }
   ],
   "source": [
    "print(text[0:10])"
   ]
  },
  {
   "cell_type": "code",
   "execution_count": 21,
   "metadata": {},
   "outputs": [],
   "source": [
    "#create mapping of unique chars to integers, and a reverse mapping\n",
    "chars = sorted(list(set(text)))\n",
    "char_to_int = dict((c, i) for i, c in enumerate(chars))\n",
    "int_to_char = dict((i, c) for i, c in enumerate(chars))"
   ]
  },
  {
   "cell_type": "code",
   "execution_count": 22,
   "metadata": {},
   "outputs": [
    {
     "name": "stdout",
     "output_type": "stream",
     "text": [
      "Total Characters: 772787\n",
      "Total Vocab: 27\n"
     ]
    }
   ],
   "source": [
    "#summarize the loaded data\n",
    "n_chars = len(text)\n",
    "n_vocab = len(chars)\n",
    "print(\"Total Characters: {}\".format(n_chars))\n",
    "print(\"Total Vocab: {}\".format(n_vocab))"
   ]
  },
  {
   "cell_type": "code",
   "execution_count": 24,
   "metadata": {
    "scrolled": true
   },
   "outputs": [
    {
     "name": "stdout",
     "output_type": "stream",
     "text": [
      "[' ', 'a', 'b', 'c', 'd', 'e', 'f', 'g', 'h', 'i', 'j', 'k', 'l', 'm', 'n', 'o', 'p', 'q', 'r', 's', 't', 'u', 'v', 'w', 'x', 'y', 'z']\n"
     ]
    }
   ],
   "source": [
    "#check the characters inside the vocab, detect potential preprocessing errors\n",
    "print(chars)"
   ]
  },
  {
   "cell_type": "markdown",
   "metadata": {},
   "source": [
    "looks fine, we want to keep space hence the first element of this list shall remain."
   ]
  },
  {
   "cell_type": "markdown",
   "metadata": {},
   "source": [
    "## This part takes a while"
   ]
  },
  {
   "cell_type": "code",
   "execution_count": 25,
   "metadata": {},
   "outputs": [
    {
     "name": "stdout",
     "output_type": "stream",
     "text": [
      "Total Patterns: 772687\n"
     ]
    }
   ],
   "source": [
    "# prepare the dataset of input to output pairs encoded as integers\n",
    "seq_length = 100\n",
    "dataX = []\n",
    "dataY = []\n",
    "for i in range(0, n_chars - seq_length, 1):\n",
    "\tseq_in = text[i:i + seq_length]\n",
    "\tseq_out = text[i + seq_length]\n",
    "\tdataX.append([char_to_int[char] for char in seq_in])\n",
    "\tdataY.append(char_to_int[seq_out])\n",
    "n_patterns = len(dataX)\n",
    "print(\"Total Patterns: {}\".format(n_patterns))"
   ]
  },
  {
   "cell_type": "code",
   "execution_count": 26,
   "metadata": {},
   "outputs": [],
   "source": [
    "#reshape X to be [samples, time steps, features]\n",
    "X = numpy.reshape(dataX, (n_patterns, seq_length, 1))\n",
    "#normalize\n",
    "X = X / float(n_vocab)\n",
    "#one hot encode the output variable\n",
    "y = np_utils.to_categorical(dataY)"
   ]
  },
  {
   "cell_type": "markdown",
   "metadata": {},
   "source": [
    "## LSTM model"
   ]
  },
  {
   "cell_type": "code",
   "execution_count": 27,
   "metadata": {},
   "outputs": [],
   "source": [
    "model = Sequential()\n",
    "model.add(LSTM(256, input_shape=(X.shape[1], X.shape[2])))\n",
    "model.add(Dropout(0.2))\n",
    "model.add(Dense(y.shape[1], activation='softmax'))\n",
    "model.compile(loss='categorical_crossentropy', optimizer='adam')"
   ]
  },
  {
   "cell_type": "code",
   "execution_count": 28,
   "metadata": {},
   "outputs": [],
   "source": [
    "# define the checkpoint\n",
    "filepath=\"weights-improvement-{epoch:02d}-{loss:.4f}.hdf5\"\n",
    "checkpoint = ModelCheckpoint(filepath, monitor='loss', verbose=1, save_best_only=True, mode='min')\n",
    "callbacks_list = [checkpoint]"
   ]
  },
  {
   "cell_type": "code",
   "execution_count": null,
   "metadata": {},
   "outputs": [
    {
     "name": "stdout",
     "output_type": "stream",
     "text": [
      "Epoch 1/20\n",
      " 105/6037 [..............................] - ETA: 23:58 - loss: 2.9042"
     ]
    }
   ],
   "source": [
    "model.fit(X, y, epochs=20, batch_size=128, callbacks=callbacks_list)"
   ]
  },
  {
   "cell_type": "code",
   "execution_count": null,
   "metadata": {},
   "outputs": [],
   "source": []
  }
 ],
 "metadata": {
  "kernelspec": {
   "display_name": "Python 3",
   "language": "python",
   "name": "python3"
  },
  "language_info": {
   "codemirror_mode": {
    "name": "ipython",
    "version": 3
   },
   "file_extension": ".py",
   "mimetype": "text/x-python",
   "name": "python",
   "nbconvert_exporter": "python",
   "pygments_lexer": "ipython3",
   "version": "3.7.6"
  }
 },
 "nbformat": 4,
 "nbformat_minor": 4
}
